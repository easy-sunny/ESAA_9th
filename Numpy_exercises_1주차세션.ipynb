{
 "cells": [
  {
   "cell_type": "markdown",
   "id": "bf79c78b",
   "metadata": {
    "id": "bf79c78b"
   },
   "source": [
    "# Numpy exercises\n",
    "\n",
    "This is a collection of exercises that have been collected in the numpy mailing list, on stack overflow\n",
    "and in the numpy documentation. The goal of this collection is to offer a quick reference for both old\n",
    "and new users but also to provide a set of exercises for those who teach.\n",
    "\n",
    "\n",
    "If you find an error or think you've a better way to solve some of them, feel\n",
    "free to open an issue at <https://github.com/rougier/numpy-100>."
   ]
  },
  {
   "cell_type": "markdown",
   "id": "8536e059",
   "metadata": {
    "id": "8536e059"
   },
   "source": [
    "File automatically generated. See the documentation to update questions/answers/hints programmatically."
   ]
  },
  {
   "cell_type": "markdown",
   "id": "017db353",
   "metadata": {
    "id": "017db353"
   },
   "source": [
    "#### 1. Import the numpy package under the name `np` (★☆☆)"
   ]
  },
  {
   "cell_type": "code",
   "execution_count": 114,
   "id": "68182a76",
   "metadata": {
    "id": "68182a76"
   },
   "outputs": [],
   "source": [
    "import numpy as np"
   ]
  },
  {
   "cell_type": "markdown",
   "id": "46950f4f",
   "metadata": {
    "id": "46950f4f"
   },
   "source": [
    "#### 2. Print the numpy version and the configuration (★☆☆)"
   ]
  },
  {
   "cell_type": "code",
   "execution_count": 7,
   "id": "91a1f739",
   "metadata": {},
   "outputs": [
    {
     "name": "stdout",
     "output_type": "stream",
     "text": [
      "1.23.5\n",
      "-------------\n",
      "openblas64__info:\n",
      "    libraries = ['openblas64_', 'openblas64_']\n",
      "    library_dirs = ['/usr/local/lib']\n",
      "    language = c\n",
      "    define_macros = [('HAVE_CBLAS', None), ('BLAS_SYMBOL_SUFFIX', '64_'), ('HAVE_BLAS_ILP64', None)]\n",
      "    runtime_library_dirs = ['/usr/local/lib']\n",
      "blas_ilp64_opt_info:\n",
      "    libraries = ['openblas64_', 'openblas64_']\n",
      "    library_dirs = ['/usr/local/lib']\n",
      "    language = c\n",
      "    define_macros = [('HAVE_CBLAS', None), ('BLAS_SYMBOL_SUFFIX', '64_'), ('HAVE_BLAS_ILP64', None)]\n",
      "    runtime_library_dirs = ['/usr/local/lib']\n",
      "openblas64__lapack_info:\n",
      "    libraries = ['openblas64_', 'openblas64_']\n",
      "    library_dirs = ['/usr/local/lib']\n",
      "    language = c\n",
      "    define_macros = [('HAVE_CBLAS', None), ('BLAS_SYMBOL_SUFFIX', '64_'), ('HAVE_BLAS_ILP64', None), ('HAVE_LAPACKE', None)]\n",
      "    runtime_library_dirs = ['/usr/local/lib']\n",
      "lapack_ilp64_opt_info:\n",
      "    libraries = ['openblas64_', 'openblas64_']\n",
      "    library_dirs = ['/usr/local/lib']\n",
      "    language = c\n",
      "    define_macros = [('HAVE_CBLAS', None), ('BLAS_SYMBOL_SUFFIX', '64_'), ('HAVE_BLAS_ILP64', None), ('HAVE_LAPACKE', None)]\n",
      "    runtime_library_dirs = ['/usr/local/lib']\n",
      "Supported SIMD extensions in this NumPy install:\n",
      "    baseline = SSE,SSE2,SSE3\n",
      "    found = SSSE3,SSE41,POPCNT,SSE42,AVX,F16C,FMA3,AVX2,AVX512F,AVX512CD,AVX512_SKX,AVX512_CLX,AVX512_CNL,AVX512_ICL\n",
      "    not found = AVX512_KNL\n",
      "None\n"
     ]
    }
   ],
   "source": [
    "print(np.__version__)\n",
    "print(\"-------------\")\n",
    "print(np.show_config())"
   ]
  },
  {
   "cell_type": "markdown",
   "id": "e3c20b3d",
   "metadata": {
    "id": "e3c20b3d"
   },
   "source": [
    "#### 3. Create a null vector of size 10 (★☆☆)"
   ]
  },
  {
   "cell_type": "code",
   "execution_count": 14,
   "id": "8a758bcf",
   "metadata": {
    "id": "8a758bcf"
   },
   "outputs": [
    {
     "data": {
      "text/plain": [
       "10"
      ]
     },
     "execution_count": 14,
     "metadata": {},
     "output_type": "execute_result"
    }
   ],
   "source": [
    "null_vec = np.zeros(10)\n",
    "null_vec.size"
   ]
  },
  {
   "cell_type": "markdown",
   "id": "b15a879f",
   "metadata": {
    "id": "b15a879f"
   },
   "source": [
    "#### 4. How to find the memory size of any array (★☆☆)"
   ]
  },
  {
   "cell_type": "code",
   "execution_count": 13,
   "id": "1cc3cbc5",
   "metadata": {
    "id": "1cc3cbc5"
   },
   "outputs": [
    {
     "name": "stdout",
     "output_type": "stream",
     "text": [
      "10\n",
      "8\n",
      "memory= 80\n"
     ]
    }
   ],
   "source": [
    "print(null_vec.size)\n",
    "print(null_vec.itemsize)\n",
    "print(\"memory=\",null_vec.size*null_vec.itemsize)"
   ]
  },
  {
   "cell_type": "markdown",
   "id": "0b16cd77",
   "metadata": {
    "id": "0b16cd77"
   },
   "source": [
    "#### 5. Create a null vector of size 10 but the fifth value which is 1 (★☆☆)"
   ]
  },
  {
   "cell_type": "code",
   "execution_count": 15,
   "id": "4d9b5975",
   "metadata": {
    "id": "4d9b5975"
   },
   "outputs": [
    {
     "name": "stdout",
     "output_type": "stream",
     "text": [
      "[0. 0. 0. 0. 1. 0. 0. 0. 0. 0.]\n"
     ]
    }
   ],
   "source": [
    "null_vec[4]=1\n",
    "print(null_vec)"
   ]
  },
  {
   "cell_type": "markdown",
   "id": "782d4c77",
   "metadata": {
    "id": "782d4c77"
   },
   "source": [
    "#### 6. Create a vector with values ranging from 10 to 49 (★☆☆)"
   ]
  },
  {
   "cell_type": "code",
   "execution_count": 16,
   "id": "5dbe1a08",
   "metadata": {
    "id": "5dbe1a08"
   },
   "outputs": [
    {
     "name": "stdout",
     "output_type": "stream",
     "text": [
      "[10 11 12 13 14 15 16 17 18 19 20 21 22 23 24 25 26 27 28 29 30 31 32 33\n",
      " 34 35 36 37 38 39 40 41 42 43 44 45 46 47 48 49]\n"
     ]
    }
   ],
   "source": [
    "vector6 = np.arange(10,50)\n",
    "print(vector6)"
   ]
  },
  {
   "cell_type": "markdown",
   "id": "48d48f01",
   "metadata": {
    "id": "48d48f01"
   },
   "source": [
    "#### 7. Reverse a vector (first element becomes last) (★☆☆)"
   ]
  },
  {
   "cell_type": "code",
   "execution_count": 23,
   "id": "3ed233e7",
   "metadata": {
    "id": "3ed233e7"
   },
   "outputs": [
    {
     "name": "stdout",
     "output_type": "stream",
     "text": [
      "[49 48 47 46 45 44 43 42 41 40 39 38 37 36 35 34 33 32 31 30 29 28 27 26\n",
      " 25 24 23 22 21 20 19 18 17 16 15 14 13 12 11 10]\n"
     ]
    }
   ],
   "source": [
    "vector7=vector6.tolist()\n",
    "vector7.reverse()\n",
    "ans7=np.array(vector7)\n",
    "print(ans7)"
   ]
  },
  {
   "cell_type": "markdown",
   "id": "4fa39382",
   "metadata": {
    "id": "4fa39382"
   },
   "source": [
    "#### 8. Create a 3x3 matrix with values ranging from 0 to 8 (★☆☆)"
   ]
  },
  {
   "cell_type": "code",
   "execution_count": 18,
   "id": "c97757ec",
   "metadata": {
    "id": "c97757ec"
   },
   "outputs": [
    {
     "name": "stdout",
     "output_type": "stream",
     "text": [
      "[[0 1 2]\n",
      " [3 4 5]\n",
      " [6 7 8]]\n"
     ]
    }
   ],
   "source": [
    "vector8 = np.arange(0,9)\n",
    "matrix8 = vector8.reshape(3,3)\n",
    "print(matrix8)"
   ]
  },
  {
   "cell_type": "markdown",
   "id": "da64551a",
   "metadata": {
    "id": "da64551a"
   },
   "source": [
    "#### 9. Find indices of non-zero elements from [1,2,0,0,4,0] (★☆☆)"
   ]
  },
  {
   "cell_type": "code",
   "execution_count": 53,
   "id": "a996a4fb",
   "metadata": {},
   "outputs": [
    {
     "data": {
      "text/plain": [
       "(array([0, 1, 4]),)"
      ]
     },
     "execution_count": 53,
     "metadata": {},
     "output_type": "execute_result"
    }
   ],
   "source": [
    "k=np.array([1,2,0,0,4,0])\n",
    "np.nonzero(k)"
   ]
  },
  {
   "cell_type": "markdown",
   "id": "f89d9c9e",
   "metadata": {
    "id": "f89d9c9e"
   },
   "source": [
    "#### 10. Create a 3x3 identity matrix (★☆☆)\n",
    "Hint : identity & eye, try to use 'help' to learn how to use two functions of numpy"
   ]
  },
  {
   "cell_type": "code",
   "execution_count": 58,
   "id": "ba625832",
   "metadata": {
    "id": "ba625832"
   },
   "outputs": [
    {
     "name": "stdout",
     "output_type": "stream",
     "text": [
      "[[1. 0. 0.]\n",
      " [0. 1. 0.]\n",
      " [0. 0. 1.]]\n"
     ]
    }
   ],
   "source": [
    "idmat=np.identity(3)\n",
    "print(idmat)"
   ]
  },
  {
   "cell_type": "markdown",
   "id": "7e44c6fa",
   "metadata": {
    "id": "7e44c6fa"
   },
   "source": [
    "#### 11. Create a 3x3x3 array with random values (★☆☆)\n",
    "Hint : numpy.random.random"
   ]
  },
  {
   "cell_type": "code",
   "execution_count": 59,
   "id": "1cb3dddf",
   "metadata": {
    "id": "1cb3dddf"
   },
   "outputs": [
    {
     "data": {
      "text/plain": [
       "array([[[0.50043766, 0.70361613, 0.4335424 ],\n",
       "        [0.69316692, 0.15872325, 0.40822284],\n",
       "        [0.80987297, 0.68362927, 0.63800671]],\n",
       "\n",
       "       [[0.06677196, 0.98643057, 0.46094912],\n",
       "        [0.86687194, 0.96863307, 0.3363682 ],\n",
       "        [0.32813216, 0.46071289, 0.49222097]],\n",
       "\n",
       "       [[0.97618111, 0.43173364, 0.05340677],\n",
       "        [0.73381371, 0.42370143, 0.12225648],\n",
       "        [0.5494141 , 0.99058577, 0.2218338 ]]])"
      ]
     },
     "execution_count": 59,
     "metadata": {},
     "output_type": "execute_result"
    }
   ],
   "source": [
    "A = np.random.random(27)\n",
    "A.reshape(3,3,3)"
   ]
  },
  {
   "cell_type": "markdown",
   "id": "13c5928c",
   "metadata": {
    "id": "13c5928c"
   },
   "source": [
    "#### 12. Create a 10x10 array with random values and find the **min**imum and **max**imum values (★☆☆)"
   ]
  },
  {
   "cell_type": "code",
   "execution_count": 61,
   "id": "911c9b93",
   "metadata": {
    "id": "911c9b93"
   },
   "outputs": [
    {
     "name": "stdout",
     "output_type": "stream",
     "text": [
      "100\n",
      "0.0011770723867828847\n",
      "0.9763220332177917\n"
     ]
    }
   ],
   "source": [
    "B = np.random.random(100)\n",
    "print(B.size)\n",
    "print(min(B))\n",
    "print(max(B))"
   ]
  },
  {
   "cell_type": "markdown",
   "id": "3fa2e461",
   "metadata": {
    "id": "3fa2e461"
   },
   "source": [
    "#### 13. Create a random vector of size 30 and find the **mean** value (★☆☆)"
   ]
  },
  {
   "cell_type": "code",
   "execution_count": 68,
   "id": "323eb38a",
   "metadata": {
    "id": "323eb38a"
   },
   "outputs": [
    {
     "name": "stdout",
     "output_type": "stream",
     "text": [
      "30\n"
     ]
    }
   ],
   "source": [
    "vector13 = np.random.random(30)\n",
    "print(vector13.size)"
   ]
  },
  {
   "cell_type": "code",
   "execution_count": 69,
   "id": "7e68c597",
   "metadata": {},
   "outputs": [
    {
     "data": {
      "text/plain": [
       "0.5177308975941547"
      ]
     },
     "execution_count": 69,
     "metadata": {},
     "output_type": "execute_result"
    }
   ],
   "source": [
    "vector13.mean()"
   ]
  },
  {
   "cell_type": "code",
   "execution_count": 71,
   "id": "b80336ed",
   "metadata": {},
   "outputs": [
    {
     "data": {
      "text/plain": [
       "0.5177308975941547"
      ]
     },
     "execution_count": 71,
     "metadata": {},
     "output_type": "execute_result"
    }
   ],
   "source": [
    "np.mean(vector13)"
   ]
  },
  {
   "cell_type": "markdown",
   "id": "73f7a549",
   "metadata": {
    "id": "73f7a549"
   },
   "source": [
    "#### 14. Create a 2d array with 1 on the border and 0 inside (★☆☆)"
   ]
  },
  {
   "cell_type": "code",
   "execution_count": 72,
   "id": "e3a6807d",
   "metadata": {
    "id": "e3a6807d"
   },
   "outputs": [
    {
     "name": "stdout",
     "output_type": "stream",
     "text": [
      "[[1. 1. 1. 1. 1.]\n",
      " [1. 0. 0. 0. 1.]\n",
      " [1. 0. 0. 0. 1.]\n",
      " [1. 0. 0. 0. 1.]\n",
      " [1. 1. 1. 1. 1.]]\n"
     ]
    }
   ],
   "source": [
    "array2d = np.ones((5,5))\n",
    "array2d[1:-1,1:-1] = 0\n",
    "print(array2d)"
   ]
  },
  {
   "cell_type": "markdown",
   "id": "d6ad1a9f",
   "metadata": {
    "id": "d6ad1a9f"
   },
   "source": [
    "#### 15. What is the result of the following expression? (★☆☆)\n",
    "```python\n",
    "0 * np.nan\n",
    "np.nan == np.nan\n",
    "np.inf > np.nan\n",
    "np.nan - np.nan\n",
    "np.nan in set([np.nan])\n",
    "0.3 == 3 * 0.1\n",
    "```"
   ]
  },
  {
   "cell_type": "code",
   "execution_count": 64,
   "id": "ee7ff0f3",
   "metadata": {
    "id": "ee7ff0f3"
   },
   "outputs": [
    {
     "name": "stdout",
     "output_type": "stream",
     "text": [
      "0 * np.nan:  nan\n",
      "np.nan==np.nan:  False\n",
      "np.inf > np.nan:  False\n",
      "np.nan-np.nan:  nan\n",
      "np.nan in set([np.nan]):  True\n",
      "0.3==3*0.1:  False\n"
     ]
    }
   ],
   "source": [
    "print(\"0 * np.nan: \",0 * np.nan)\n",
    "print(\"np.nan==np.nan: \",np.nan==np.nan)\n",
    "print(\"np.inf > np.nan: \",np.inf > np.nan)\n",
    "print(\"np.nan-np.nan: \",np.nan-np.nan)\n",
    "print(\"np.nan in set([np.nan]): \",np.nan in set([np.nan]))\n",
    "print(\"0.3==3*0.1: \",0.3==3*0.1)"
   ]
  },
  {
   "cell_type": "markdown",
   "id": "e3a7ba7f",
   "metadata": {
    "id": "e3a7ba7f"
   },
   "source": [
    "#### 16. Create a 5x5 matrix with values 1,2,3,4 just below the **diag**onal (★☆☆)"
   ]
  },
  {
   "cell_type": "code",
   "execution_count": 65,
   "id": "01d8e257",
   "metadata": {
    "id": "01d8e257"
   },
   "outputs": [
    {
     "name": "stdout",
     "output_type": "stream",
     "text": [
      "[[1 0 0 0]\n",
      " [0 2 0 0]\n",
      " [0 0 3 0]\n",
      " [0 0 0 4]]\n"
     ]
    }
   ],
   "source": [
    "v = [1,2,3,4]\n",
    "diagmat = np.diag(v)\n",
    "print(diagmat)"
   ]
  },
  {
   "cell_type": "markdown",
   "id": "6d17ab5d",
   "metadata": {
    "id": "6d17ab5d"
   },
   "source": [
    "#### 17. Create a 8x8 matrix and fill it with a checkerboard pattern (★☆☆)"
   ]
  },
  {
   "cell_type": "code",
   "execution_count": 73,
   "id": "841373cd",
   "metadata": {
    "id": "841373cd"
   },
   "outputs": [
    {
     "name": "stdout",
     "output_type": "stream",
     "text": [
      "[[0 1 0 1 0 1 0 1]\n",
      " [1 0 1 0 1 0 1 0]\n",
      " [0 1 0 1 0 1 0 1]\n",
      " [1 0 1 0 1 0 1 0]\n",
      " [0 1 0 1 0 1 0 1]\n",
      " [1 0 1 0 1 0 1 0]\n",
      " [0 1 0 1 0 1 0 1]\n",
      " [1 0 1 0 1 0 1 0]]\n"
     ]
    }
   ],
   "source": [
    "checkb = np.zeros((8,8),dtype=int)\n",
    "checkb[1::2,::2]=1\n",
    "checkb[::2,1::2]=1\n",
    "print(checkb)"
   ]
  },
  {
   "cell_type": "markdown",
   "id": "8837119b",
   "metadata": {
    "id": "8837119b"
   },
   "source": [
    "#### 18. Consider a (6,7,8) shape array, what is the index (x,y,z) of the 100th element? (★☆☆)\n",
    "Hint : use 'numpy.unravel_index(value, (x, y, z))"
   ]
  },
  {
   "cell_type": "code",
   "execution_count": 54,
   "id": "2c0d16f1",
   "metadata": {
    "id": "2c0d16f1"
   },
   "outputs": [
    {
     "data": {
      "text/plain": [
       "(1, 5, 4)"
      ]
     },
     "execution_count": 54,
     "metadata": {},
     "output_type": "execute_result"
    }
   ],
   "source": [
    "np.unravel_index(100,(6,7,8))"
   ]
  },
  {
   "cell_type": "markdown",
   "id": "391791e0",
   "metadata": {
    "id": "391791e0"
   },
   "source": [
    "#### 19. Normalize a 5x5 random matrix (★☆☆)\n",
    "Hint : $Z = \\frac{X - \\overline{X}}{S}$"
   ]
  },
  {
   "cell_type": "code",
   "execution_count": 99,
   "id": "f6533d39",
   "metadata": {
    "id": "f6533d39"
   },
   "outputs": [
    {
     "name": "stdout",
     "output_type": "stream",
     "text": [
      "[[0.60719091 0.30987706 0.71953735 0.16066597 0.80796306]\n",
      " [0.80920594 0.57300851 0.88533741 0.32031434 0.27347383]\n",
      " [0.68546408 0.94419998 0.32099156 0.51272237 0.91875794]\n",
      " [0.41447229 0.5167519  0.32869049 0.74550951 0.65340463]\n",
      " [0.41856326 0.51900724 0.18709856 0.12170723 0.40938598]]\n"
     ]
    }
   ],
   "source": [
    "vec19 = np.random.random(25)\n",
    "mat19 = vec19.reshape(5,5)\n",
    "print(mat19)"
   ]
  },
  {
   "cell_type": "code",
   "execution_count": 101,
   "id": "6bdf4fbb",
   "metadata": {},
   "outputs": [],
   "source": [
    "norm=(mat19-np.mean(mat19))/np.std(mat19)"
   ]
  },
  {
   "cell_type": "code",
   "execution_count": 107,
   "id": "39733323",
   "metadata": {},
   "outputs": [
    {
     "name": "stdout",
     "output_type": "stream",
     "text": [
      "[[ 0.33637185 -0.90351699  0.80489057 -1.52577244  1.17365259]\n",
      " [ 1.17883577  0.19382091  1.49632706 -0.85999038 -1.05532951]\n",
      " [ 0.6627947   1.74180181 -0.85716618 -0.05759058  1.63570079]\n",
      " [-0.46732317 -0.04078622 -0.82505927  0.91320234  0.52909707]\n",
      " [-0.4502626  -0.03138075 -1.41554053 -1.68824221 -0.48853463]]\n"
     ]
    }
   ],
   "source": [
    "print(norm)"
   ]
  },
  {
   "cell_type": "code",
   "execution_count": 109,
   "id": "2ab9a010",
   "metadata": {},
   "outputs": [
    {
     "name": "stdout",
     "output_type": "stream",
     "text": [
      "-0.0\n",
      "1.0\n"
     ]
    }
   ],
   "source": [
    "print(round(np.mean(norm),1))\n",
    "print(round(np.std(norm),1))"
   ]
  },
  {
   "cell_type": "markdown",
   "id": "1e74d39e",
   "metadata": {
    "id": "1e74d39e"
   },
   "source": [
    "#### 20. Create a custom dtype that describes a color as four unsigned bytes (RGBA) (★☆☆)\n",
    "Hint : modify the code below\n",
    "```python\n",
    "numpy.dtype([(value, numpy.ubyte), … , (value, numpy.ubyte)])\n",
    "```"
   ]
  },
  {
   "cell_type": "code",
   "execution_count": 120,
   "id": "3f639d33",
   "metadata": {
    "id": "3f639d33"
   },
   "outputs": [
    {
     "data": {
      "text/plain": [
       "dtype([('r', 'u1'), ('g', 'u1'), ('b', 'u1'), ('a', 'u1')])"
      ]
     },
     "execution_count": 120,
     "metadata": {},
     "output_type": "execute_result"
    }
   ],
   "source": [
    "np.dtype([(\"r\",np.ubyte),(\"g\",np.ubyte),(\"b\",np.ubyte),(\"a\",np.ubyte)])"
   ]
  },
  {
   "cell_type": "markdown",
   "id": "78250c14",
   "metadata": {
    "id": "78250c14"
   },
   "source": [
    "#### 21. Multiply a 5x3 matrix by a 3x2 matrix (real matrix product) (★☆☆)"
   ]
  },
  {
   "cell_type": "code",
   "execution_count": 82,
   "id": "9fe729cb",
   "metadata": {
    "id": "9fe729cb"
   },
   "outputs": [
    {
     "name": "stdout",
     "output_type": "stream",
     "text": [
      "mat1\n",
      "[[1 1 4]\n",
      " [2 2 3]\n",
      " [3 1 3]\n",
      " [2 3 4]\n",
      " [3 1 2]]\n",
      "mat2\n",
      "[[3 1]\n",
      " [4 3]\n",
      " [2 2]]\n",
      "mat1*mat2\n",
      "[[15 12]\n",
      " [20 14]\n",
      " [19 12]\n",
      " [26 19]\n",
      " [17 10]]\n"
     ]
    }
   ],
   "source": [
    "vec1 = np.random.randint(1,5,size=15)\n",
    "vec2 = np.random.randint(1,5,size=6)\n",
    "mat1 = vec1.reshape(5,3)\n",
    "mat2 = vec2.reshape(3,2)\n",
    "print(\"mat1\")\n",
    "print(mat1)\n",
    "print(\"mat2\")\n",
    "print(mat2)\n",
    "dot_product = np.dot(mat1,mat2)\n",
    "print(\"mat1*mat2\")\n",
    "print(dot_product)"
   ]
  },
  {
   "cell_type": "markdown",
   "id": "51898680",
   "metadata": {
    "id": "51898680"
   },
   "source": [
    "#### 22. Given a 1D array, negate all elements which are between 3 and 8, in place. (★☆☆)"
   ]
  },
  {
   "cell_type": "code",
   "execution_count": 122,
   "id": "51c90f2d",
   "metadata": {
    "id": "51c90f2d"
   },
   "outputs": [
    {
     "name": "stdout",
     "output_type": "stream",
     "text": [
      "[ 5  3  2  9  7  4  4 10  7  4]\n"
     ]
    }
   ],
   "source": [
    "array1d = np.random.randint(1,11,size=10)\n",
    "print(array1d)"
   ]
  },
  {
   "cell_type": "code",
   "execution_count": 123,
   "id": "c4de074e",
   "metadata": {},
   "outputs": [],
   "source": [
    "array1d[(3<array1d)&(array1d<8)] *= -1"
   ]
  },
  {
   "cell_type": "code",
   "execution_count": 124,
   "id": "87db9d5d",
   "metadata": {},
   "outputs": [
    {
     "data": {
      "text/plain": [
       "array([-5,  3,  2,  9, -7, -4, -4, 10, -7, -4])"
      ]
     },
     "execution_count": 124,
     "metadata": {},
     "output_type": "execute_result"
    }
   ],
   "source": [
    "array1d"
   ]
  },
  {
   "cell_type": "markdown",
   "id": "89e78048",
   "metadata": {
    "id": "89e78048"
   },
   "source": [
    "#### 23. What is the output of the following script? (★☆☆)\n",
    "```python\n",
    "# Author: Jake VanderPlas\n",
    "\n",
    "print(sum(range(5),-1))\n",
    "from numpy import *\n",
    "print(sum(range(5),-1))\n",
    "```"
   ]
  },
  {
   "cell_type": "code",
   "execution_count": 130,
   "id": "b62e9d1c",
   "metadata": {
    "id": "b62e9d1c"
   },
   "outputs": [
    {
     "name": "stdout",
     "output_type": "stream",
     "text": [
      "10\n",
      "10\n"
     ]
    }
   ],
   "source": [
    "print(sum(range(5),-1))\n",
    "from numpy import * # *은 모든 것의 의미로 통용/ numpy에서 모든 것을 가져온다\n",
    "print(sum(range(5),-1))"
   ]
  },
  {
   "cell_type": "markdown",
   "id": "ebd10810",
   "metadata": {
    "id": "ebd10810"
   },
   "source": [
    "#### 24. Consider an integer vector Z, which of these expressions are legal? (★☆☆)\n",
    "```python\n",
    "Z**Z\n",
    "2 << Z >> 2\n",
    "Z <- Z\n",
    "1j*Z\n",
    "Z/1/1\n",
    "Z<Z>Z\n",
    "```"
   ]
  },
  {
   "cell_type": "code",
   "execution_count": 126,
   "id": "6ada209f",
   "metadata": {
    "id": "6ada209f"
   },
   "outputs": [
    {
     "name": "stdout",
     "output_type": "stream",
     "text": [
      "<class 'numpy.ndarray'>\n",
      "int64\n"
     ]
    }
   ],
   "source": [
    "Z = np.array([1,2,3])\n",
    "print(type(Z))\n",
    "print(Z.dtype)"
   ]
  },
  {
   "cell_type": "code",
   "execution_count": 127,
   "id": "4e7ff504",
   "metadata": {},
   "outputs": [
    {
     "data": {
      "text/plain": [
       "array([ 1,  4, 27])"
      ]
     },
     "execution_count": 127,
     "metadata": {},
     "output_type": "execute_result"
    }
   ],
   "source": [
    "Z**Z #인덱스가 동일한 벡터의 요소들끼리 곱한 것 "
   ]
  },
  {
   "cell_type": "code",
   "execution_count": 92,
   "id": "3519555f",
   "metadata": {},
   "outputs": [
    {
     "data": {
      "text/plain": [
       "array([1, 2, 4])"
      ]
     },
     "execution_count": 92,
     "metadata": {},
     "output_type": "execute_result"
    }
   ],
   "source": [
    "2 << Z >> 2 "
   ]
  },
  {
   "cell_type": "markdown",
   "id": "b7756ca4",
   "metadata": {},
   "source": [
    "#인터넷참고\n",
    "\n",
    "정수를 2배로 곱하거나 나누어 계산해 주는 비트단위시프트연산자 <<, >>를 이용할 수 있다.\n",
    "컴퓨터 내부에는 2진수 형태로 값들이 저장되기 때문에,\n",
    "2진수 형태로 저장되어 있는 값들을 왼쪽(<<)이나 오른쪽(>>)으로\n",
    "지정한 비트 수만큼 밀어주면 2배씩 늘어나거나 1/2로 줄어드는데,\n",
    "\n",
    "왼쪽 비트시프트(<<)가 될 때에는 오른쪽에 0이 주어진 개수만큼 추가되고,\n",
    "오른쪽 비트시프트(>>)가 될 때에는 왼쪽에 0(0 또는 양의 정수인 경우)이나 1(음의 정수인 경우)이 개수만큼 추가되고,\n",
    "가장 오른쪽에 있는 1비트는 사라진다.\n"
   ]
  },
  {
   "cell_type": "code",
   "execution_count": 129,
   "id": "4bf57887",
   "metadata": {},
   "outputs": [
    {
     "name": "stdout",
     "output_type": "stream",
     "text": [
      "20\n",
      "5\n",
      "40\n",
      "2\n"
     ]
    }
   ],
   "source": [
    "#추가코드\n",
    "n = 10\n",
    "print(n<<1)  #10을 2배 한 값인 20 이 출력된다.\n",
    "print(n>>1)  #10을 반으로 나눈 값인 5 가 출력된다.\n",
    "print(n<<2)  #10을 4배 한 값인 40 이 출력된다.\n",
    "print(n>>2)  #10을 반으로 나눈 후 다시 반으로 나눈 값인 2 가 출력된다."
   ]
  },
  {
   "cell_type": "code",
   "execution_count": 93,
   "id": "e3cc520c",
   "metadata": {},
   "outputs": [
    {
     "data": {
      "text/plain": [
       "array([False, False, False])"
      ]
     },
     "execution_count": 93,
     "metadata": {},
     "output_type": "execute_result"
    }
   ],
   "source": [
    "Z <- Z"
   ]
  },
  {
   "cell_type": "code",
   "execution_count": 131,
   "id": "cd58b965",
   "metadata": {},
   "outputs": [
    {
     "data": {
      "text/plain": [
       "array([0.+1.j, 0.+2.j, 0.+3.j])"
      ]
     },
     "execution_count": 131,
     "metadata": {},
     "output_type": "execute_result"
    }
   ],
   "source": [
    "1j*Z \n",
    "#imaginary numbers are real multiples of the imaginary unit (the square root of -1)"
   ]
  },
  {
   "cell_type": "code",
   "execution_count": 95,
   "id": "e86ee262",
   "metadata": {},
   "outputs": [
    {
     "data": {
      "text/plain": [
       "array([1., 2., 3.])"
      ]
     },
     "execution_count": 95,
     "metadata": {},
     "output_type": "execute_result"
    }
   ],
   "source": [
    "Z/1/1"
   ]
  },
  {
   "cell_type": "code",
   "execution_count": 111,
   "id": "98c16714",
   "metadata": {},
   "outputs": [
    {
     "data": {
      "text/plain": [
       "False"
      ]
     },
     "execution_count": 111,
     "metadata": {},
     "output_type": "execute_result"
    }
   ],
   "source": [
    "R = 3\n",
    "R<R>R"
   ]
  },
  {
   "cell_type": "code",
   "execution_count": 112,
   "id": "e82c969f",
   "metadata": {},
   "outputs": [
    {
     "ename": "ValueError",
     "evalue": "The truth value of an array with more than one element is ambiguous. Use a.any() or a.all()",
     "output_type": "error",
     "traceback": [
      "\u001b[0;31m---------------------------------------------------------------------------\u001b[0m",
      "\u001b[0;31mValueError\u001b[0m                                Traceback (most recent call last)",
      "\u001b[0;32m/var/folders/f4/skyf3wfx5570p30yjkrfkxd00000gn/T/ipykernel_38562/225404581.py\u001b[0m in \u001b[0;36m<module>\u001b[0;34m\u001b[0m\n\u001b[0;32m----> 1\u001b[0;31m \u001b[0mZ\u001b[0m\u001b[0;34m<\u001b[0m\u001b[0mZ\u001b[0m\u001b[0;34m>\u001b[0m\u001b[0mZ\u001b[0m\u001b[0;34m\u001b[0m\u001b[0;34m\u001b[0m\u001b[0m\n\u001b[0m",
      "\u001b[0;31mValueError\u001b[0m: The truth value of an array with more than one element is ambiguous. Use a.any() or a.all()"
     ]
    }
   ],
   "source": [
    "Z<Z>Z"
   ]
  },
  {
   "cell_type": "markdown",
   "id": "c0e940f8",
   "metadata": {
    "id": "c0e940f8"
   },
   "source": [
    "#### 25. What are the result of the following expressions? (★☆☆)\n",
    "```python\n",
    "np.array(0) / np.array(0)\n",
    "np.array(0) // np.array(0)\n",
    "np.array([np.nan]).astype(int).astype(float)\n",
    "```"
   ]
  },
  {
   "cell_type": "code",
   "execution_count": 83,
   "id": "820dc7a5",
   "metadata": {
    "id": "820dc7a5"
   },
   "outputs": [
    {
     "name": "stdout",
     "output_type": "stream",
     "text": [
      "nan\n",
      "0\n",
      "[-9.22337204e+18]\n"
     ]
    },
    {
     "name": "stderr",
     "output_type": "stream",
     "text": [
      "/var/folders/f4/skyf3wfx5570p30yjkrfkxd00000gn/T/ipykernel_38562/3227561482.py:1: RuntimeWarning: invalid value encountered in divide\n",
      "  print(np.array(0)/np.array(0))\n",
      "/var/folders/f4/skyf3wfx5570p30yjkrfkxd00000gn/T/ipykernel_38562/3227561482.py:2: RuntimeWarning: divide by zero encountered in floor_divide\n",
      "  print(np.array(0)//np.array(0))\n"
     ]
    }
   ],
   "source": [
    "print(np.array(0)/np.array(0))\n",
    "print(np.array(0)//np.array(0))\n",
    "print(np.array([np.nan]).astype(int).astype(float))"
   ]
  }
 ],
 "metadata": {
  "colab": {
   "collapsed_sections": [
    "51898680"
   ],
   "provenance": [
    {
     "file_id": "1XQrE85XLoId6V_IsycxHbq-ihNt9mAFK",
     "timestamp": 1692706115063
    }
   ]
  },
  "kernelspec": {
   "display_name": "Python 3 (ipykernel)",
   "language": "python",
   "name": "python3"
  },
  "language_info": {
   "codemirror_mode": {
    "name": "ipython",
    "version": 3
   },
   "file_extension": ".py",
   "mimetype": "text/x-python",
   "name": "python",
   "nbconvert_exporter": "python",
   "pygments_lexer": "ipython3",
   "version": "3.9.13"
  }
 },
 "nbformat": 4,
 "nbformat_minor": 5
}
