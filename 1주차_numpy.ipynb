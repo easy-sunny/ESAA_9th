{
 "cells": [
  {
   "cell_type": "markdown",
   "id": "1200c80c",
   "metadata": {},
   "source": [
    "# 넘파이 ndarray 개요"
   ]
  },
  {
   "cell_type": "code",
   "execution_count": 11,
   "id": "accb2d39",
   "metadata": {},
   "outputs": [],
   "source": [
    "import numpy as np"
   ]
  },
  {
   "cell_type": "code",
   "execution_count": 3,
   "id": "5f596a94",
   "metadata": {},
   "outputs": [
    {
     "name": "stdout",
     "output_type": "stream",
     "text": [
      "array1 type: <class 'numpy.ndarray'>\n",
      "array1 array 형태: (3,)\n"
     ]
    }
   ],
   "source": [
    "array1 = np.array([1,2,3])\n",
    "print(\"array1 type:\", type(array1))\n",
    "print(\"array1 array 형태:\", array1.shape)"
   ]
  },
  {
   "cell_type": "code",
   "execution_count": 5,
   "id": "fe829e03",
   "metadata": {},
   "outputs": [
    {
     "name": "stdout",
     "output_type": "stream",
     "text": [
      "array2 type: <class 'numpy.ndarray'>\n",
      "array2 array 형태: (2, 3)\n"
     ]
    }
   ],
   "source": [
    "array2 = np.array([[1,2,3],\n",
    "                 [2,3,4]])\n",
    "print(\"array2 type:\", type(array2))\n",
    "print(\"array2 array 형태:\", array2.shape)"
   ]
  },
  {
   "cell_type": "code",
   "execution_count": 6,
   "id": "a6a6492e",
   "metadata": {},
   "outputs": [
    {
     "name": "stdout",
     "output_type": "stream",
     "text": [
      "array3 type: <class 'numpy.ndarray'>\n",
      "array3 array 형태: (1, 3)\n"
     ]
    }
   ],
   "source": [
    "array3 = np.array([[1,2,3]])\n",
    "print(\"array3 type:\", type(array3))\n",
    "print(\"array3 array 형태:\", array3.shape)"
   ]
  },
  {
   "cell_type": "markdown",
   "id": "8bede187",
   "metadata": {},
   "source": [
    "-----------------------------------------------------------------------------------------------------------"
   ]
  },
  {
   "cell_type": "markdown",
   "id": "5e099ff0",
   "metadata": {},
   "source": [
    "**넘파이의 기반 데이터 타입은 ndarray입니다.** \n",
    "\n",
    "ndarray를 이용해 넘파이에서 다차원 배열을 쉽게 생성하고 다양한 연산을 수행할 수 있습니다.<br>\n",
    "넘파이 array()함수는 파이썬의 리스트와 같은 다양한 인자를 입력 받아서 ndarry로 변환하는 기능을 수행합니다.<br>\n",
    "생성된 ndarray 배열의 shape 변수는 ndarray의 크기, 즉 행과 열의 수를 튜플형태로 가지고 있으며, 이를 통해 ndarray 배열의 차원까지 알 수 있습니다 "
   ]
  },
  {
   "cell_type": "code",
   "execution_count": 7,
   "id": "7b99232d",
   "metadata": {},
   "outputs": [
    {
     "name": "stdout",
     "output_type": "stream",
     "text": [
      "array1: 1차원, array2: 2차원, array3:  2차원\n"
     ]
    }
   ],
   "source": [
    "print(\"array1: {:0}차원, array2: {:1}차원, array3: {:2}차원\".format(array1.ndim, array2.ndim, array3.ndim))"
   ]
  },
  {
   "cell_type": "markdown",
   "id": "97700b7d",
   "metadata": {},
   "source": [
    "np.array()사용법은 매우 간단합니다. ndarray로 변환을 원하는 객체를 인자로 입력하면 ndarray를 반환합니다.\n",
    "\n",
    "ndarray.shape은 ndarray의 차원과 크기를 튜플 형태로 나타내줍니다. \n",
    "\n",
    "array1 은 (3,) = 1차원 array로 3개의 데이터를 가지고 있음<br>\n",
    "array2 은 (2,3) = 2차원 array로 2개의 로우와 3개의 칼럼<br>\n",
    "array3 은 (1,3) = 2차원 array로 1개의 로우와 3개의 칼럼<br>\n",
    "\n",
    "array3 과 array1은 동일한 데이터 건수를 가지고 있지만,<br>\n",
    "array1은 명확하게 1차원임을 (3,)형태로 표현한 것이며 array3 역시 명확하게 로우와 칼럼으로 이뤄진 2차원 데이터임을 표현\n"
   ]
  },
  {
   "cell_type": "markdown",
   "id": "0e4aaee6",
   "metadata": {},
   "source": [
    "array1은 1차원, array3은 2차원임을 알 수 있습니다. array()함수의 인자로는 파이썬의 리스트 객체가 주로 사용됩니다.<br>\n",
    "리스트[]는 1차원이고, 리스트의 리스트 [[]]는 2차원과 같은 형태로 배열의 차원과 크기를 쉽게 표현할 수 있기 때문입니다"
   ]
  },
  {
   "cell_type": "markdown",
   "id": "5b0febb7",
   "metadata": {},
   "source": [
    "# ndarray의 데이터 타입"
   ]
  },
  {
   "cell_type": "markdown",
   "id": "cc9e03ee",
   "metadata": {},
   "source": [
    "'array()함수의 인자로는 파이썬의 리스트 객체가 주로 사용됩니다'\n",
    "\n",
    "ndarray내의 데이터값은 숫자 값, 문자열 값, 불 값 등이 모두 가능합니다.<br>\n",
    "하지만 한 개의 ndarray 객체에 int와 float가 함께 있을 수 없습니다.<br>\n",
    "ndarray내의 데이터 타입은 dtype 속성으로 확인할 수 있습니다."
   ]
  },
  {
   "cell_type": "code",
   "execution_count": 18,
   "id": "aa675173",
   "metadata": {},
   "outputs": [
    {
     "name": "stdout",
     "output_type": "stream",
     "text": [
      "<class 'list'>\n",
      "<class 'numpy.ndarray'>\n",
      "[1 2 3] int64\n"
     ]
    }
   ],
   "source": [
    "list1 = [1,2,3]\n",
    "print(type(list1))\n",
    "array1 = np.array(list1)\n",
    "print(type(array1))\n",
    "print(array1, array1.dtype)"
   ]
  },
  {
   "cell_type": "markdown",
   "id": "e6e1ae91",
   "metadata": {},
   "source": [
    "서로 다른 데이터 타입을 가질 수 있는 리스트와 다르게,<br> \n",
    "ndarray 내의 데이터 타입은 그 연산의 특성상 같은 데이터 타입만 가능<br>\n",
    "-> 만약 다른 데이터 유형이 섞여 있는 리스트를 ndarray로 변경하면 데이터 크기가 더 큰 데이터 타입으로 형 변환을 일괄 적용 \n",
    "\n",
    "- \" int+string = string \"<br>\n",
    "- \" int+float = float \"<br>"
   ]
  },
  {
   "cell_type": "code",
   "execution_count": 19,
   "id": "faa51f8b",
   "metadata": {},
   "outputs": [
    {
     "name": "stdout",
     "output_type": "stream",
     "text": [
      "['1' '2' 'test'] <U21\n"
     ]
    }
   ],
   "source": [
    "list2 = [1,2,\"test\"] \n",
    "array2 = np.array(list2)\n",
    "print(array2, array2.dtype)"
   ]
  },
  {
   "cell_type": "code",
   "execution_count": 21,
   "id": "c2222146",
   "metadata": {},
   "outputs": [
    {
     "name": "stdout",
     "output_type": "stream",
     "text": [
      "[1. 2. 3.] float64\n"
     ]
    }
   ],
   "source": [
    "list3 = [1,2,3.0]\n",
    "array3 = np.array(list3)\n",
    "print(array3, array3.dtype)"
   ]
  },
  {
   "cell_type": "markdown",
   "id": "da272fca",
   "metadata": {},
   "source": [
    "ndarray 내 데이터값의 타입 변경 => astype()메서드 이용<br>\n",
    "주의_float를 int형으로 변경할 때 소수점 이하는 당연히 모두 없어짐<br>"
   ]
  },
  {
   "cell_type": "code",
   "execution_count": 22,
   "id": "f563ea81",
   "metadata": {},
   "outputs": [
    {
     "name": "stdout",
     "output_type": "stream",
     "text": [
      "[1. 2. 3.] float64\n"
     ]
    }
   ],
   "source": [
    "array_int = np.array([1,2,3])\n",
    "array_float = array_int.astype(\"float64\")\n",
    "print(array_float, array_float.dtype)"
   ]
  },
  {
   "cell_type": "code",
   "execution_count": 23,
   "id": "6f3cb1b2",
   "metadata": {},
   "outputs": [
    {
     "name": "stdout",
     "output_type": "stream",
     "text": [
      "[1 2 3] int32\n"
     ]
    }
   ],
   "source": [
    "array_int1=array_float.astype(\"int32\")\n",
    "print(array_int1,array_int1.dtype)"
   ]
  },
  {
   "cell_type": "code",
   "execution_count": 24,
   "id": "be161818",
   "metadata": {},
   "outputs": [
    {
     "name": "stdout",
     "output_type": "stream",
     "text": [
      "[1 2 3] int32\n"
     ]
    }
   ],
   "source": [
    "array_float1 = np.array([1.1,2.1,3.1])\n",
    "array_int2 = array_float1.astype(\"int32\")\n",
    "print(array_int2,array_int2.dtype)"
   ]
  },
  {
   "cell_type": "markdown",
   "id": "a4e0431d",
   "metadata": {},
   "source": [
    "# ndarray를 편리하게 생성하기 - arange, zeros, ones"
   ]
  },
  {
   "cell_type": "markdown",
   "id": "7222e356",
   "metadata": {},
   "source": [
    "## arange"
   ]
  },
  {
   "cell_type": "markdown",
   "id": "da44a080",
   "metadata": {},
   "source": [
    "arange()는 함수 이름에서 알 수 있듯이 파이썬 표준 함수인 range()와 유사한 기능을 합니다.<br>\n",
    "쉽게 생각하면 array를 range()로 표현하는 것입니다. "
   ]
  },
  {
   "cell_type": "code",
   "execution_count": 25,
   "id": "4863e591",
   "metadata": {},
   "outputs": [
    {
     "name": "stdout",
     "output_type": "stream",
     "text": [
      "[0 1 2 3 4 5 6 7 8 9]\n",
      "int64 (10,)\n"
     ]
    }
   ],
   "source": [
    "sequence_array = np.arange(10)\n",
    "print(sequence_array)\n",
    "print(sequence_array.dtype , sequence_array.shape)"
   ]
  },
  {
   "cell_type": "code",
   "execution_count": 28,
   "id": "fb27940f",
   "metadata": {},
   "outputs": [
    {
     "name": "stdout",
     "output_type": "stream",
     "text": [
      "[0, 1, 2, 3, 4, 5, 6, 7, 8, 9]\n",
      "int64 (10,)\n"
     ]
    }
   ],
   "source": [
    "#추가 - range()\n",
    "\n",
    "seq = range(10)\n",
    "sequence_list = list(seq)\n",
    "print(sequence_list)\n",
    "print(sequence_array.dtype , sequence_array.shape)"
   ]
  },
  {
   "cell_type": "code",
   "execution_count": 29,
   "id": "2570268e",
   "metadata": {},
   "outputs": [
    {
     "data": {
      "text/plain": [
       "array([0, 1, 2, 3, 4, 5, 6, 7, 8, 9])"
      ]
     },
     "execution_count": 29,
     "metadata": {},
     "output_type": "execute_result"
    }
   ],
   "source": [
    "np.arange(10)"
   ]
  },
  {
   "cell_type": "code",
   "execution_count": 30,
   "id": "1c4fe3c8",
   "metadata": {},
   "outputs": [
    {
     "data": {
      "text/plain": [
       "range(0, 10)"
      ]
     },
     "execution_count": 30,
     "metadata": {},
     "output_type": "execute_result"
    }
   ],
   "source": [
    "range(10)"
   ]
  },
  {
   "cell_type": "markdown",
   "id": "653ffc79",
   "metadata": {},
   "source": [
    "## zeros( ) & ones() "
   ]
  },
  {
   "cell_type": "markdown",
   "id": "97d1c2dc",
   "metadata": {},
   "source": [
    "zeros()는 함수 인자로 튜플 형태의 shape 값을 입력<br> \n",
    "-> 모든 값을 0으로 채운 해당 shape을 가진 ndarray를 반환\n",
    "\n",
    "유사하게, ones()는 함수 인자로 튜플 형태의 shape 값을 입력<br> \n",
    "-> 모든 값을 1로 채운 해당 shape을 가진 ndarray를 반환\n",
    "\n",
    "함수 인자로 dtype을 정해주지 않으면 default로 float64형의 데이터로 ndarray를 채움"
   ]
  },
  {
   "cell_type": "code",
   "execution_count": 31,
   "id": "5fc8e04d",
   "metadata": {},
   "outputs": [
    {
     "name": "stdout",
     "output_type": "stream",
     "text": [
      "[[0 0]\n",
      " [0 0]\n",
      " [0 0]]\n",
      "int32 (3, 2)\n"
     ]
    }
   ],
   "source": [
    "zero_array = np.zeros((3,2),dtype=\"int32\")\n",
    "print(zero_array)\n",
    "print(zero_array.dtype, zero_array.shape)"
   ]
  },
  {
   "cell_type": "code",
   "execution_count": 32,
   "id": "6b9fdcc8",
   "metadata": {},
   "outputs": [
    {
     "name": "stdout",
     "output_type": "stream",
     "text": [
      "[[1. 1.]\n",
      " [1. 1.]\n",
      " [1. 1.]]\n",
      "float64 (3, 2)\n"
     ]
    }
   ],
   "source": [
    "one_array=np.ones((3,2))\n",
    "print(one_array)\n",
    "print(one_array.dtype, one_array.shape)"
   ]
  },
  {
   "cell_type": "markdown",
   "id": "c7c67ff4",
   "metadata": {},
   "source": [
    "# ndarray의 차원과 크기를 변경하는 reshape( )"
   ]
  },
  {
   "cell_type": "code",
   "execution_count": 34,
   "id": "09aa0493",
   "metadata": {},
   "outputs": [
    {
     "name": "stdout",
     "output_type": "stream",
     "text": [
      "array1:\n",
      " [0 1 2 3 4 5 6 7 8 9]\n",
      "\n",
      "\n",
      "array2:\n",
      " [[0 1 2 3 4]\n",
      " [5 6 7 8 9]]\n",
      "\n",
      "\n",
      "array3:\n",
      " [[0 1]\n",
      " [2 3]\n",
      " [4 5]\n",
      " [6 7]\n",
      " [8 9]]\n"
     ]
    }
   ],
   "source": [
    "array1 = np.arange(10)\n",
    "print(\"array1:\\n\", array1)\n",
    "print(\"\\n\")\n",
    "\n",
    "array2 = array1.reshape(2,5)\n",
    "print(\"array2:\\n\", array2)\n",
    "print(\"\\n\")\n",
    "\n",
    "array3 = array1.reshape(5,2)\n",
    "print(\"array3:\\n\", array3)"
   ]
  },
  {
   "cell_type": "code",
   "execution_count": 36,
   "id": "21e4ee29",
   "metadata": {},
   "outputs": [
    {
     "ename": "ValueError",
     "evalue": "cannot reshape array of size 10 into shape (4,3)",
     "output_type": "error",
     "traceback": [
      "\u001b[0;31m---------------------------------------------------------------------------\u001b[0m",
      "\u001b[0;31mValueError\u001b[0m                                Traceback (most recent call last)",
      "\u001b[0;32m/var/folders/f4/skyf3wfx5570p30yjkrfkxd00000gn/T/ipykernel_24385/2452457581.py\u001b[0m in \u001b[0;36m<module>\u001b[0;34m\u001b[0m\n\u001b[0;32m----> 1\u001b[0;31m \u001b[0marray1\u001b[0m\u001b[0;34m.\u001b[0m\u001b[0mreshape\u001b[0m\u001b[0;34m(\u001b[0m\u001b[0;36m4\u001b[0m\u001b[0;34m,\u001b[0m\u001b[0;36m3\u001b[0m\u001b[0;34m)\u001b[0m\u001b[0;34m\u001b[0m\u001b[0;34m\u001b[0m\u001b[0m\n\u001b[0m\u001b[1;32m      2\u001b[0m \u001b[0;34m\u001b[0m\u001b[0m\n\u001b[1;32m      3\u001b[0m \u001b[0;31m#reshape()는 지정된 사이즈로 변경이 불가능하면 오류를 발생\u001b[0m\u001b[0;34m\u001b[0m\u001b[0;34m\u001b[0m\u001b[0m\n\u001b[1;32m      4\u001b[0m \u001b[0;31m#(10,) 데이터를 (4,3) shape 형태로 변경할 수는 없습니다.\u001b[0m\u001b[0;34m\u001b[0m\u001b[0;34m\u001b[0m\u001b[0m\n",
      "\u001b[0;31mValueError\u001b[0m: cannot reshape array of size 10 into shape (4,3)"
     ]
    }
   ],
   "source": [
    "array1.reshape(4,3)\n",
    "\n",
    "#reshape()는 지정된 사이즈로 변경이 불가능하면 오류를 발생 \n",
    "#(10,) 데이터를 (4,3) shape 형태로 변경할 수는 없습니다. "
   ]
  },
  {
   "cell_type": "code",
   "execution_count": 2,
   "id": "1d972b69",
   "metadata": {
    "scrolled": true
   },
   "outputs": [
    {
     "name": "stdout",
     "output_type": "stream",
     "text": [
      "[0 1 2 3 4 5 6 7 8 9]\n",
      "\n",
      "\n",
      "array2 shape: (2, 5)\n",
      "[[0 1 2 3 4]\n",
      " [5 6 7 8 9]]\n",
      "\n",
      "\n",
      "array3 shape: (5, 2)\n",
      "[[0 1]\n",
      " [2 3]\n",
      " [4 5]\n",
      " [6 7]\n",
      " [8 9]]\n"
     ]
    }
   ],
   "source": [
    "# -1을 인자로 사용하면 원래 ndarray와 호환되는 새로운 shape로 변환해줄 수 있다\n",
    "\n",
    "array1 = np.arange(10)\n",
    "print(array1)\n",
    "print(\"\\n\")\n",
    "\n",
    "array2 = array1.reshape(-1,5)\n",
    "print(\"array2 shape:\", array2.shape)\n",
    "print(array2)\n",
    "print(\"\\n\")\n",
    "\n",
    "array3 = array1.reshape(5,-1)\n",
    "print(\"array3 shape:\", array3.shape)\n",
    "print(array3)"
   ]
  },
  {
   "cell_type": "markdown",
   "id": "43a3a2e6",
   "metadata": {},
   "source": [
    "### -1 인자 설명"
   ]
  },
  {
   "cell_type": "markdown",
   "id": "701ca9d7",
   "metadata": {},
   "source": [
    "\n",
    "array2 = array1.reshape(-1,5)<br>\n",
    "= 로우 인자가 -1, 칼럼 인자가 5<br>\n",
    "= array1(10개의 1차원 데이터)와 호환될 수 있는 2차원 ndarray로 변환하되, 고정된 5개 칼럼에 맞는 로우를 자동으로 새롭게 생성해 변화해라 \n",
    "\n",
    "array3 = array1.reshape(5,-1)<br>\n",
    "= 로우 인자가 5, 칼럼 인자가 -1<br>\n",
    "= 10개의 1차원 데이터와 호환될 수 있는 고정된 5개의 로우<br> \n",
    "(결국 2개의 칼럼을 가져야함 = 5x2의 2차원 ndarray로 변환해라)"
   ]
  },
  {
   "cell_type": "code",
   "execution_count": 39,
   "id": "a0fd493e",
   "metadata": {},
   "outputs": [
    {
     "ename": "ValueError",
     "evalue": "cannot reshape array of size 10 into shape (4)",
     "output_type": "error",
     "traceback": [
      "\u001b[0;31m---------------------------------------------------------------------------\u001b[0m",
      "\u001b[0;31mValueError\u001b[0m                                Traceback (most recent call last)",
      "\u001b[0;32m/var/folders/f4/skyf3wfx5570p30yjkrfkxd00000gn/T/ipykernel_24385/4235882712.py\u001b[0m in \u001b[0;36m<module>\u001b[0;34m\u001b[0m\n\u001b[1;32m      3\u001b[0m \u001b[0;34m\u001b[0m\u001b[0m\n\u001b[1;32m      4\u001b[0m \u001b[0marray1\u001b[0m \u001b[0;34m=\u001b[0m\u001b[0mnp\u001b[0m\u001b[0;34m.\u001b[0m\u001b[0marange\u001b[0m\u001b[0;34m(\u001b[0m\u001b[0;36m10\u001b[0m\u001b[0;34m)\u001b[0m\u001b[0;34m\u001b[0m\u001b[0;34m\u001b[0m\u001b[0m\n\u001b[0;32m----> 5\u001b[0;31m \u001b[0marray4\u001b[0m \u001b[0;34m=\u001b[0m \u001b[0marray1\u001b[0m\u001b[0;34m.\u001b[0m\u001b[0mreshape\u001b[0m\u001b[0;34m(\u001b[0m\u001b[0;34m-\u001b[0m\u001b[0;36m1\u001b[0m\u001b[0;34m,\u001b[0m\u001b[0;36m4\u001b[0m\u001b[0;34m)\u001b[0m\u001b[0;34m\u001b[0m\u001b[0;34m\u001b[0m\u001b[0m\n\u001b[0m",
      "\u001b[0;31mValueError\u001b[0m: cannot reshape array of size 10 into shape (4)"
     ]
    }
   ],
   "source": [
    "#물론 -1을 사용하더라도 호환될 수 없는 형태는 변환할 수 없습니다.\n",
    "#10개의 1차원 데이터를 고정된 4개의 칼럼을 가진 로우로는 변경할 수 없기 때문\n",
    "\n",
    "array1 =np.arange(10)\n",
    "array4 = array1.reshape(-1,4)"
   ]
  },
  {
   "cell_type": "markdown",
   "id": "2ea03d13",
   "metadata": {},
   "source": [
    "-----------------------------------------------------------------------------------------------------"
   ]
  },
  {
   "cell_type": "markdown",
   "id": "ea3aa018",
   "metadata": {},
   "source": [
    "\n",
    "-1 인자는 reshape(-1,1)와 같은 형태로 자주 사용됩니다.<br>\n",
    "reshape(-1,1)은 원본 ndarray가 어떤 형태라도 2차원이고, 여러 개의 로우를 가지되 반드시 1개의 칼럼을 가진 ndarry로 변환됨을 보장합니다.<br>\n",
    "여러 개의 넘파이 ndarry는 \"stack\"이나 \"concat\"으로 결합할 때 각각의 ndarray의 형태를 통일해 유용하게 사용됩니다."
   ]
  },
  {
   "cell_type": "markdown",
   "id": "86ab2800",
   "metadata": {},
   "source": [
    "\n",
    "\n",
    "다음 예제는 reshape(-1,1)을 이용해 3차원을 2차원으로, 1차원을 2차원으로 변경합니다<br>\n",
    "ndarray는 tolist()메서드를 이용해 리스트 자료형으로 변환할 수 있습니다.<br>\n",
    "때로는 리스트 자료형을 print를 이용해 출력할 때 시각적으로 더 이해하기 쉬울 수 있어서 ndarray를 리스트로 변환해 출력했습니다.<br> "
   ]
  },
  {
   "cell_type": "code",
   "execution_count": 5,
   "id": "04a2b63e",
   "metadata": {},
   "outputs": [
    {
     "name": "stdout",
     "output_type": "stream",
     "text": [
      "array3d:\n",
      " [[[0, 1], [2, 3]], [[4, 5], [6, 7]]]\n",
      "\n",
      "\n",
      "array5:\n",
      " [[0], [1], [2], [3], [4], [5], [6], [7]]\n",
      "array5 shape: (8, 1)\n",
      "\n",
      "\n",
      "array6:\n",
      " [[0], [1], [2], [3], [4], [5], [6], [7]]\n",
      "array6 shape: (8, 1)\n"
     ]
    }
   ],
   "source": [
    "array1 = np.arange(8)\n",
    "array3d = array1.reshape((2,2,2))\n",
    "print(\"array3d:\\n\", array3d.tolist())\n",
    "print(\"\\n\")\n",
    "\n",
    "#3차원 ndarray를 2차원 ndarray로 변환\n",
    "array5 = array3d.reshape(-1,1)\n",
    "print(\"array5:\\n\", array5.tolist())\n",
    "print(\"array5 shape:\", array5.shape)\n",
    "print(\"\\n\")\n",
    "\n",
    "#1차원 ndarray를 2차원 ndarray로 변환\n",
    "array6 = array1.reshape(-1,1)\n",
    "print(\"array6:\\n\", array6.tolist())\n",
    "print(\"array6 shape:\", array6.shape)"
   ]
  },
  {
   "cell_type": "markdown",
   "id": "f1452801",
   "metadata": {},
   "source": [
    "# 넘파이의 ndarray의 데이터 세트 선택하기 - 인덱싱(Indexing) _ 필사"
   ]
  },
  {
   "cell_type": "markdown",
   "id": "8d4b09c8",
   "metadata": {},
   "source": [
    "1.특정한 데이터만 추출 : 원하는 위치의 인덱스 값을 지정하면 해당위치의 데이터가 반환.<br>\n",
    "2.슬라이싱 : 슬라이싱은 연속된 인덱스상의 ndarray를 추출하는 방식.<br>\n",
    "          \":\" 기호 사이에 시작 인덱스와 종료 인덱스를 표시하면 시작 인덱스에서 종료 인덱스-1 위치에 있는 데이터의 ndarray를 반환.<br>\n",
    "          예를 들어 1:5라고 하면 시작 인덱스 1과 종료 인덱스 4까지에 해당하는 ndarray를 반환.<br> \n",
    "3.팬시 인덱싱 : 일정한 인덱싱 집합을 리스트 또는 ndarray 형태로 지정해 해당 위치에 있는 데이터의 ndarray를 반환.<br>\n",
    "4.불린 인덱싱 : 특정 조건에 해당하는지 여부인 True/False 값 인덱싱 집합 기반으로 True에 해당하는 인덱스 위치에 있는 데이터의 ndarray를 반환. "
   ]
  },
  {
   "cell_type": "markdown",
   "id": "f5e16ee4",
   "metadata": {},
   "source": [
    "-----------------------------------------------------------------------------------------------------"
   ]
  },
  {
   "cell_type": "markdown",
   "id": "f7504832",
   "metadata": {},
   "source": [
    "\n",
    "\n",
    "## 1.단일값 추출\n",
    "\n",
    "먼저 한 개의 데이터만을 추출하는 방법을 알아보겠습니다.<br>\n",
    "1개의 데이터값을 선택하려면 ndarray 객체에 해당하는 위치의 인덱스 값을 [] 안에 입력하면 됩니다.<br> \n",
    "간단한 1차원 ndarray에서 한 개의 데이터를 추출하기 위해 데이터값이 1부터 9까지인 9개의 1차원 ndarray를 생성하겠습니다. "
   ]
  },
  {
   "cell_type": "code",
   "execution_count": 6,
   "id": "abe34812",
   "metadata": {},
   "outputs": [
    {
     "name": "stdout",
     "output_type": "stream",
     "text": [
      "array1: [1 2 3 4 5 6 7 8 9]\n",
      "value: 3\n",
      "<class 'numpy.int64'>\n"
     ]
    }
   ],
   "source": [
    "#1부터 9까지의 1차원 ndarray 생성\n",
    "array1 = np.arange(start=1, stop=10)\n",
    "print(\"array1:\", array1)\n",
    "\n",
    "#**index는 0부터 시작**하므로 array1[2]는 3번째 index 위치의 데이터값을 의미\n",
    "value = array1[2]\n",
    "print(\"value:\",value)\n",
    "print(type(value))"
   ]
  },
  {
   "cell_type": "markdown",
   "id": "09c2400a",
   "metadata": {},
   "source": [
    "인덱스는 0부터 시작하므로 array1[2]는 3번째 인덱스 위치의 데이터값을 의미하므로 데이터값 3을 의미합니다.<br>\n",
    "\n",
    "**array1[2]의 타입은 더 이상 ndarray 타입이 아니고 ndarray 내의 데이터값을 의미합니다.**\n",
    "\n",
    "인덱스에 마이너스 기호를 이용하면 맨뒤에서부터 데이터를 추출할 수 있습니다.<br>\n",
    "인덱스 -1은 맨 뒤의 데이터값을 의미합니다. -2는 맨 뒤에서 두번째에 있는 데이터 값입니다."
   ]
  },
  {
   "cell_type": "code",
   "execution_count": 8,
   "id": "0845965c",
   "metadata": {},
   "outputs": [
    {
     "name": "stdout",
     "output_type": "stream",
     "text": [
      "맨 뒤의 값: 9 맨 뒤에서 두 번째 값: 8\n"
     ]
    }
   ],
   "source": [
    "print(\"맨 뒤의 값:\", array1[-1], \"맨 뒤에서 두 번째 값:\", array1[-2])"
   ]
  },
  {
   "cell_type": "markdown",
   "id": "dc3c5900",
   "metadata": {},
   "source": [
    "\n",
    "단일 인덱스를 이용해 ndarray 내의 데이터 값도 간단히 수정 가능합니다.\n"
   ]
  },
  {
   "cell_type": "code",
   "execution_count": 9,
   "id": "b0738d7d",
   "metadata": {
    "scrolled": true
   },
   "outputs": [
    {
     "name": "stdout",
     "output_type": "stream",
     "text": [
      "이전 array1: [1 2 3 4 5 6 7 8 9]\n",
      "이후 array1: [9 2 3 4 5 6 7 8 0]\n"
     ]
    }
   ],
   "source": [
    "print(\"이전 array1:\", array1) #추가코드\n",
    "array1[0]=9\n",
    "array1[8]=0\n",
    "print(\"이후 array1:\", array1)"
   ]
  },
  {
   "cell_type": "markdown",
   "id": "9ae135ab",
   "metadata": {},
   "source": [
    "\n",
    "\n",
    "다음으로 다차원 ndarray에서 단일 값을 추출하겠습니다.<br>\n",
    "3차원 이상의 ndarray에서의 데이터 추출도 2차원 ndarray와 큰 차이가 없으므로<br> \n",
    "더 간단한 이해를 위해 2차원 ndarray에서 단일값을 추출하는 것을 예제로 하겠습니다.<br>\n",
    "\n",
    "1차원과 2차원 ndarray에서의 데이터 접근의 차이는 2차원의 경우 콤마(,)로 분리된 로우와 칼럼 위치의 인덱스를 통해 접근하는 것입니다.\n",
    "\n",
    "앞 예제의 1차원 ndarray를 2차원의 3X3 ndarray로 변환한 후 [row,col]을 이용해 2차원 ndarray에서 데이터를 추출해보겠습니다."
   ]
  },
  {
   "cell_type": "code",
   "execution_count": 10,
   "id": "f8d9bca4",
   "metadata": {},
   "outputs": [
    {
     "name": "stdout",
     "output_type": "stream",
     "text": [
      "[[1 2 3]\n",
      " [4 5 6]\n",
      " [7 8 9]]\n",
      "\n",
      "\n",
      "(row=0, col=0) index가 가리키는 값: 1\n",
      "(row=0, col=1) index가 가리키는 값: 2\n",
      "(row=1, col=0) index가 가리키는 값: 4\n",
      "(row=2, col=2) index가 가리키는 값: 9\n"
     ]
    }
   ],
   "source": [
    "array1d = np.arange(start=1,stop=10)\n",
    "array2d = array1d.reshape(3,3)\n",
    "print(array2d)\n",
    "print(\"\\n\")\n",
    "\n",
    "print(\"(row=0, col=0) index가 가리키는 값:\", array2d[0,0])\n",
    "print(\"(row=0, col=1) index가 가리키는 값:\", array2d[0,1])\n",
    "print(\"(row=1, col=0) index가 가리키는 값:\", array2d[1,0])\n",
    "print(\"(row=2, col=2) index가 가리키는 값:\", array2d[2,2])"
   ]
  },
  {
   "cell_type": "markdown",
   "id": "94c6e1e2",
   "metadata": {},
   "source": [
    "주목해야 할 부분은 axis0과 axis1 입니다.<br> \n",
    "axis0은 로우 방향의 축을 의미합니다.<br>\n",
    "axis1은 칼럼 방향의 축을 의미합니다.<br>\n",
    "정확히 얘기하자면, 앞 설명에서 지칭한 로우와 칼럼은 넘파이 ndarray에서는 사용되지 않는 방식입니다.<br>\n",
    "이해를 돕기 위해 로우, 칼럼 형식으로 표현한 것일 뿐, 정확한 표현으로는 axis0, axis1이 맞습니다.<br> \n",
    "\n",
    "**[row=0,col=1]인덱싱은 [axis0=0,axis1=1]이 정확한 표현**\n",
    "\n",
    "2차원이므로 axis0, axis1로 구분되며,<br> \n",
    "3차원 ndarray의 경우는 axis0, axis1, axis 2로 3개의 축을 가지게 됩니다. (행, 열, 높이로 이해하면 됩니다)<br>\n",
    "이런 식으로 넘파이의 다차원 ndarray는 axis 구분을 가지게 됩니다. \n",
    "\n",
    "**axis0이 로우방향 축, axis1이 칼럼 방향축임을 이해하는 것은 중요합니다.**<br>\n",
    "다차원 ndarray의 경우 축에 따른 연산을 지원하기 때문입니다.<br> \n",
    "축 기반의 연산에서 axis가 생략되면 axis0을 의미합니다. "
   ]
  },
  {
   "cell_type": "markdown",
   "id": "85358041",
   "metadata": {},
   "source": [
    "## 2.슬라이싱\n",
    "\":\" 기호를 이용해 연속한 데이터를 슬라이싱해서 추출할 수 있습니다.<br> \n",
    "단일 데이터값 추출을 제외하고 슬라이싱, 팬시 인덱싱, 불린 인덱싱으로 추출된 데이터 세트는 모두 ndarray타입입니다.<br>\n",
    "\":\" 사이에 시작 인덱스와 종료 인덱스를 표시하면 시작 인덱스에서 종료인덱스-1 위치에 있는 데이터의 ndarray를 반환합니다."
   ]
  },
  {
   "cell_type": "code",
   "execution_count": 12,
   "id": "617d0914",
   "metadata": {
    "scrolled": true
   },
   "outputs": [
    {
     "name": "stdout",
     "output_type": "stream",
     "text": [
      "[1 2 3]\n",
      "<class 'numpy.ndarray'>\n"
     ]
    }
   ],
   "source": [
    "array1 = np.arange(start=1, stop=10)\n",
    "array3 = array1[0:3]\n",
    "print(array3)\n",
    "print(type(array3))"
   ]
  },
  {
   "cell_type": "markdown",
   "id": "3c14e757",
   "metadata": {},
   "source": [
    "슬라이싱 기호인 \":\" 사이의 시작, 종료 인덱스는 생략이 가능합니다. \n",
    "\n",
    "- \":\" 기호 앞에 시작 인덱스를 생략하면 자동으로 맨 처음 인덱스인 0으로 간주합니다.<br>\n",
    "- \":\" 기호 뒤에 종료 인덱스를 생략하면 자동으로 맨 마지막 인덱스로 간주합니다.<br>\n",
    "- \":\" 기호 앞/뒤에 시작/종료 인덱스를 생략하면 자동으로 맨 처음/ 맨 마지막 인덱스로 간주합니다.<br>"
   ]
  },
  {
   "cell_type": "code",
   "execution_count": 22,
   "id": "b9f3bd09",
   "metadata": {},
   "outputs": [
    {
     "name": "stdout",
     "output_type": "stream",
     "text": [
      "index= [0 1 2 3 4 5 6 7 8]\n",
      "\n",
      "\n",
      "array= [1 2 3 4 5 6 7 8 9]\n"
     ]
    }
   ],
   "source": [
    "#추가코드\n",
    "index=np.arange(0,9)\n",
    "array1 = np.arange(start=1,stop=10)\n",
    "print(\"index=\",index)\n",
    "print(\"\\n\")\n",
    "print(\"array=\",array1)"
   ]
  },
  {
   "cell_type": "code",
   "execution_count": 23,
   "id": "13631ded",
   "metadata": {},
   "outputs": [
    {
     "name": "stdout",
     "output_type": "stream",
     "text": [
      "[1 2 3]\n",
      "[4 5 6 7 8 9]\n",
      "[1 2 3 4 5 6 7 8 9]\n"
     ]
    }
   ],
   "source": [
    "array1 = np.arange(start=1,stop=10)\n",
    "array4 = array1[:3]\n",
    "print(array4)\n",
    "\n",
    "array5 = array1[3:]\n",
    "print(array5)\n",
    "\n",
    "array6 = array1[:]\n",
    "print(array6)"
   ]
  },
  {
   "cell_type": "markdown",
   "id": "9f458d08",
   "metadata": {},
   "source": [
    "이번에는 2차원 ndarray에서 슬라이싱으로 데이터에 접근해보겠습니다.<br>\n",
    "2차원 ndarray에서의 슬라이싱도 1차원 ndarray에서의 슬라이싱과 유사하며, 단지 콤마(,)로 로우와 칼럼 인덱스를 지칭하는 부분만 다릅니다.<br> "
   ]
  },
  {
   "cell_type": "code",
   "execution_count": 30,
   "id": "f17902c0",
   "metadata": {},
   "outputs": [
    {
     "name": "stdout",
     "output_type": "stream",
     "text": [
      "index_2차원\n",
      "list[(0, 0), (0, 1), (0, 2)]\n",
      "list[(1, 0), (1, 1), (1, 2)]\n",
      "list[(2, 0), (2, 1), (2, 2)]\n",
      "\n",
      "\n",
      "array2d:\n",
      " [[1 2 3]\n",
      " [4 5 6]\n",
      " [7 8 9]]\n"
     ]
    }
   ],
   "source": [
    "#추가코드 \n",
    "list1=list[(0,0),(0,1),(0,2)]\n",
    "list2=list[(1,0),(1,1),(1,2)]\n",
    "list3=list[(2,0),(2,1),(2,2)]\n",
    "print(\"index_2차원\")\n",
    "print(list1)\n",
    "print(list2)\n",
    "print(list3)\n",
    "\n",
    "print(\"\\n\")\n",
    "array1d = np.arange(start=1,stop=10)\n",
    "array2d = array1d.reshape(3,3)\n",
    "print(\"array2d:\\n\",array2d)"
   ]
  },
  {
   "cell_type": "code",
   "execution_count": 31,
   "id": "81d4396f",
   "metadata": {},
   "outputs": [
    {
     "name": "stdout",
     "output_type": "stream",
     "text": [
      "array2d:\n",
      " [[1 2 3]\n",
      " [4 5 6]\n",
      " [7 8 9]]\n",
      "array2d[0:2,0:2]\n",
      " [[1 2]\n",
      " [4 5]]\n",
      "array2d[1:3,0:3]\n",
      " [[4 5 6]\n",
      " [7 8 9]]\n",
      "array2d[1:3,:]\n",
      " [[4 5 6]\n",
      " [7 8 9]]\n",
      "array2d[:,:]\n",
      " [[1 2 3]\n",
      " [4 5 6]\n",
      " [7 8 9]]\n",
      "array2d[:2,1:]\n",
      " [[2 3]\n",
      " [5 6]]\n",
      "array2d[:2,0]\n",
      " [1 4]\n"
     ]
    }
   ],
   "source": [
    "array1d = np.arange(start=1,stop=10)\n",
    "array2d = array1d.reshape(3,3)\n",
    "print(\"array2d:\\n\",array2d)\n",
    "\n",
    "print(\"array2d[0:2,0:2]\\n\", array2d[0:2,0:2])\n",
    "print(\"array2d[1:3,0:3]\\n\", array2d[1:3,0:3])\n",
    "print(\"array2d[1:3,:]\\n\", array2d[1:3,:])\n",
    "print(\"array2d[:,:]\\n\", array2d[:,:])\n",
    "print(\"array2d[:2,1:]\\n\", array2d[:2,1:])\n",
    "print(\"array2d[:2,0]\\n\", array2d[:2,0])"
   ]
  },
  {
   "cell_type": "markdown",
   "id": "0efbf843",
   "metadata": {},
   "source": [
    "\n",
    "2차원 ndarray에서 뒤에 오는 인덱스를 없애면 1차원 ndarray를 반환합니다.<br>\n",
    "즉, array2d[0]과 같이 2차원 뒤에 오는 인덱스를 없애면 로우 축 (axis0)의 첫번째 로우 ndarray를 반환하게 됩니다.<br>\n",
    "반환되는 ndarray는 1차원입니다. 3차원 ndarray에서 뒤에 오는 인덱스를 없애면 2차원 ndarray를 반환합니다.<br>\n",
    "(추가; 비슷한 느낌으로 array1d[0]이면 더이상 array가 아닌 단일 value가 됨 <- \"단일값 추출\")<br>"
   ]
  },
  {
   "cell_type": "code",
   "execution_count": 35,
   "id": "f193b6b3",
   "metadata": {},
   "outputs": [
    {
     "name": "stdout",
     "output_type": "stream",
     "text": [
      "array2d[0]= [1 2 3]\n",
      "array2d[0] shape: (3,)\n",
      "array2d[1]= [4 5 6]\n",
      "array2d[1] shape: (3,)\n"
     ]
    }
   ],
   "source": [
    "print(\"array2d[0]=\",array2d[0])\n",
    "print(\"array2d[0] shape:\", array2d[0].shape)\n",
    "print(\"array2d[1]=\",array2d[1])\n",
    "print(\"array2d[1] shape:\", array2d[1].shape)"
   ]
  },
  {
   "cell_type": "markdown",
   "id": "1973b165",
   "metadata": {},
   "source": [
    "\n",
    "## 3.팬시 인덱싱\n",
    "\n",
    "팬시 인덱싱은 리스트나 ndarray로 인덱스 집합을 지정하면 해당 위치의 인덱스에 해당하는 ndarray를 반환하는 인덱싱 방식입니다.<br>\n",
    "2차원 ndarray에 팬시 인덱싱을 적용하면서 이 기능이 어떻게 동작하는지 살펴보겠습니다.<br> "
   ]
  },
  {
   "cell_type": "code",
   "execution_count": 36,
   "id": "baf8293a",
   "metadata": {},
   "outputs": [
    {
     "name": "stdout",
     "output_type": "stream",
     "text": [
      "index_2차원\n",
      "list[(0, 0), (0, 1), (0, 2)]\n",
      "list[(1, 0), (1, 1), (1, 2)]\n",
      "list[(2, 0), (2, 1), (2, 2)]\n",
      "\n",
      "\n",
      "array2d:\n",
      " [[1 2 3]\n",
      " [4 5 6]\n",
      " [7 8 9]]\n"
     ]
    }
   ],
   "source": [
    "#추가코드 \n",
    "list1=list[(0,0),(0,1),(0,2)]\n",
    "list2=list[(1,0),(1,1),(1,2)]\n",
    "list3=list[(2,0),(2,1),(2,2)]\n",
    "print(\"index_2차원\")\n",
    "print(list1)\n",
    "print(list2)\n",
    "print(list3)\n",
    "\n",
    "print(\"\\n\")\n",
    "array1d = np.arange(start=1,stop=10)\n",
    "array2d = array1d.reshape(3,3)\n",
    "print(\"array2d:\\n\",array2d)"
   ]
  },
  {
   "cell_type": "code",
   "execution_count": 37,
   "id": "7968c2c0",
   "metadata": {},
   "outputs": [
    {
     "name": "stdout",
     "output_type": "stream",
     "text": [
      "array2d[[0,1],2] => [3, 6]\n",
      "array2d[[0,1],0:2] => [[1, 2], [4, 5]]\n",
      "array2d[[0,1]] => [[1, 2, 3], [4, 5, 6]]\n"
     ]
    }
   ],
   "source": [
    "array1d = np.arange(start=1, stop=10)\n",
    "array2d = array1d.reshape(3,3)\n",
    "\n",
    "array3 = array2d[[0,1],2]\n",
    "print(\"array2d[[0,1],2] =>\", array3.tolist())\n",
    "\n",
    "array4 = array2d[[0,1],0:2]\n",
    "print(\"array2d[[0,1],0:2] =>\", array4.tolist())\n",
    "\n",
    "array5 = array2d[[0,1]]\n",
    "print(\"array2d[[0,1]] =>\", array5.tolist())"
   ]
  },
  {
   "cell_type": "markdown",
   "id": "851c4003",
   "metadata": {},
   "source": [
    "(추가코드 index_2차원 output을 참고해서)<br>\n",
    "\n",
    "array2d[[0,1],2] 로우 축에 팬시 인덱싱인 [0,1]을 칼럼 축에는 단일 값 인덱싱 2를 적용했습니다.<br>\n",
    "따라서 (row,col) 인덱스가 (0,2),(1,2)로 적용돼 [3,6]을 반환합니다.\n",
    "\n",
    "array2d[[0,1],0:2]는 ((0,0),(0,1)),((1,0),(1,1)) 인덱싱이 적용돼 [[1,2],[4,5]]를 반환합니다.\n",
    "\n",
    "array2d[[0,1]]는 ((0,:),(1,:)) 인덱싱이 적용돼 [[1,2,3],[4,5,6]]을 반환합니다."
   ]
  },
  {
   "cell_type": "markdown",
   "id": "07d661ac",
   "metadata": {},
   "source": [
    "## 4.불린 인덱싱 \n",
    "\n",
    "불린 인덱싱은 조건 필터링과 검색을 동시에 할 수 있기 때문에 매우 자주 사용되는 인덱싱 방식입니다.<br>\n",
    "1차원 ndarray [1,2,3,4,5,6,7,8,9]에서 데이터값이 5보다 큰 데이터만 추출하려면 어떻게 하면 될까요?<br>\n",
    "아마 for loop를 돌면서 값을 하나씩 if '추출값' > 5 비교를 통해서 해당하는 데이터만 추출해야 할 것입니다.<br>\n",
    "불린 인덱싱을 이용하면 for loop / if else 문보다 훨씬 간단하게 이를 구현할 수 있습니다.<br>\n",
    "불린 인덱싱은 ndarray의 인덱스를 지정하는 []  내에 조건문을 그대로 기재하기만 하면 됩니다.<br>\n",
    "다음 예제에서 불린 인덱싱을 바로 적용해보도록 하겠습니다. "
   ]
  },
  {
   "cell_type": "markdown",
   "id": "9b711f9e",
   "metadata": {},
   "source": [
    "-----------------------------------------------------------------------------------"
   ]
  },
  {
   "cell_type": "code",
   "execution_count": 38,
   "id": "ce70651a",
   "metadata": {},
   "outputs": [
    {
     "name": "stdout",
     "output_type": "stream",
     "text": [
      "array1d: [1 2 3 4 5 6 7 8 9]\n",
      "array1d>5 불린 인덱싱 결과 값: [6 7 8 9]\n"
     ]
    }
   ],
   "source": [
    "array1d = np.arange(start=1, stop=10)\n",
    "# [] 안에 array1d > 5 boolean indexing을 적용\n",
    "array3 = array1d[array1d>5]\n",
    "print(\"array1d:\", array1d)\n",
    "print(\"array1d>5 불린 인덱싱 결과 값:\", array3)"
   ]
  },
  {
   "cell_type": "markdown",
   "id": "e833217d",
   "metadata": {},
   "source": [
    "\n",
    "어떻게 조건 필터링이 이처럼 간단하게 될 수 있는지 알아보겠습니다.<br> \n",
    "먼저 넘파이 ndarray 객체에 조건식을 할당하면 어떤 일이 일어나는지 확인하겠습니다<br>"
   ]
  },
  {
   "cell_type": "code",
   "execution_count": 39,
   "id": "0e9fd1c0",
   "metadata": {},
   "outputs": [
    {
     "data": {
      "text/plain": [
       "array([False, False, False, False, False,  True,  True,  True,  True])"
      ]
     },
     "execution_count": 39,
     "metadata": {},
     "output_type": "execute_result"
    }
   ],
   "source": [
    "array1d > 5"
   ]
  },
  {
   "cell_type": "markdown",
   "id": "c7374fbe",
   "metadata": {},
   "source": [
    "\n",
    "array1d > 5 와 같이 단지 ndarray 객체에 조건식만 붙였을 뿐인데 False, True로 이뤄진 ndarray 객체가 반환됐습니다.<br>\n",
    "반환된 array([False, False, False, False, False,  True,  True,  True,  True]) 를 자세히 살펴보면,<br>\n",
    "5보다 큰 데이터가 있는 위치는 True 값이, 그렇지 않는 경우는 False 값이 반환됨을 확인할 수 있습니다.\n",
    "\n",
    "조건으로 반환된 이 ndarray 객체를 인덱싱을 지정하는 [] 내에 입력하면 False 값은 무시하고,<br>\n",
    "True 값이 있는 위치 인덱스 값으로 자동 변환해 해당하는 인덱스 위치의 데이터만 반환하게 됩니다.<br>\n",
    "\n",
    "즉, array([False, False, False, False, False,  True,  True,  True,  True])에서<br>\n",
    "False가 있는 인덱스 0~4는 무시하고 인덱스 [5,6,7,8]이 만들어지고 이 위치 인덱스에 해당하는 데이터 세트 [6,7,8,9]를 반환하게 됩니다.\n",
    "\n",
    "위와 동일한 불린 ndarray를 만들고 이를 array1d[]내에 인덱스로 입력하면 동일한 데이터 세트가 변환됨을 알 수 있습니다. "
   ]
  },
  {
   "cell_type": "code",
   "execution_count": 41,
   "id": "0effa05a",
   "metadata": {},
   "outputs": [
    {
     "name": "stdout",
     "output_type": "stream",
     "text": [
      "불린 인덱스로 필터링 결과 : [6 7 8 9]\n"
     ]
    }
   ],
   "source": [
    "boolean_indexs = np.array([False, False, False, False, False,  True,  True,  True,  True])\n",
    "array3 = array1d[boolean_indexs]\n",
    "print(\"불린 인덱스로 필터링 결과 :\", array3)"
   ]
  },
  {
   "cell_type": "code",
   "execution_count": 43,
   "id": "507a1795",
   "metadata": {},
   "outputs": [
    {
     "name": "stdout",
     "output_type": "stream",
     "text": [
      "일반 인덱스로 필터링 결과 : [6 7 8 9]\n"
     ]
    }
   ],
   "source": [
    "#즉, 다음과 같이 직접 인덱스 집합을 만들어 대입한 것과 동일\n",
    "\n",
    "indexes =np.array([5,6,7,8])\n",
    "array4 = array1d[indexes]\n",
    "print(\"일반 인덱스로 필터링 결과 :\", array4)"
   ]
  },
  {
   "cell_type": "markdown",
   "id": "d9993ade",
   "metadata": {},
   "source": [
    "\n",
    "step1 : array1d > 5 와 같이 ndarray의 필터링 조건을 [] 안에 기재<br>\n",
    "step2 : False 값은 무시하고 True 값에 해당하는 인덱스값만 저장<br> \n",
    "(유의해야 할 사항은 True값 자체인 1을 저장하는 것이 아니라 True값을 가진 인덱스를 저장한다는 것입니다)<br>\n",
    "step3 : 저장된 인덱스 데이터 세트로 ndarray 조회<br>"
   ]
  },
  {
   "cell_type": "markdown",
   "id": "7bb2e3a6",
   "metadata": {},
   "source": [
    "--------------------------------------------------------------------------------------------------"
   ]
  },
  {
   "cell_type": "markdown",
   "id": "7ba5377e",
   "metadata": {},
   "source": [
    "# 행렬의 정렬 - sort( )와 argsort( )"
   ]
  },
  {
   "cell_type": "markdown",
   "id": "2dd548eb",
   "metadata": {},
   "source": [
    "## 행렬의 정렬<br>\n",
    "1.np.sort()와 같이 넘파이에서 sort()를 호출하는 방식<br>\n",
    "2.ndarray.sort()와 같이 행렬 자체에서 sort()를 호출하는 방식<br>\n",
    "1의 경우 원 행렬은 그대로 유지한 채 원 행렬의 정렬된 행렬을 반환하며,<br> \n",
    "2의 경우 원 행렬 자체를 정렬한 형태로 반한하며 반환 값은 none입니다.<br>"
   ]
  },
  {
   "cell_type": "code",
   "execution_count": 14,
   "id": "5ed49ca7",
   "metadata": {},
   "outputs": [
    {
     "name": "stdout",
     "output_type": "stream",
     "text": [
      "원본 행렬: [3 1 9 5]\n",
      "np.sort() 호출 후 반환된 정렬 행렬: [1 3 5 9]\n",
      "np.sort() 호출 후 원본 행렬: [3 1 9 5]\n",
      "org_array.sort 호출 후 반환된 행렬: None\n",
      "org_array.sort 호출 후 원본 행렬: [1 3 5 9]\n"
     ]
    }
   ],
   "source": [
    "org_array=np.array([3,1,9,5])\n",
    "print(\"원본 행렬:\", org_array)\n",
    "\n",
    "# 1-np.sort()로 정렬\n",
    "sort_array1 = np.sort(org_array)\n",
    "print(\"np.sort() 호출 후 반환된 정렬 행렬:\", sort_array1)\n",
    "print(\"np.sort() 호출 후 원본 행렬:\", org_array)\n",
    "\n",
    "# 2-ndarray.sort()로 정렬\n",
    "sort_array2 = org_array.sort()\n",
    "print(\"org_array.sort 호출 후 반환된 행렬:\", sort_array2)\n",
    "print(\"org_array.sort 호출 후 원본 행렬:\", org_array)"
   ]
  },
  {
   "cell_type": "code",
   "execution_count": 15,
   "id": "00bcdb46",
   "metadata": {},
   "outputs": [
    {
     "name": "stdout",
     "output_type": "stream",
     "text": [
      "내림차순으로 정렬: [9 5 3 1]\n"
     ]
    }
   ],
   "source": [
    "#내림차순\n",
    "\n",
    "sort_array1_desc = np.sort(org_array)[::-1]\n",
    "print(\"내림차순으로 정렬:\", sort_array1_desc)"
   ]
  },
  {
   "cell_type": "code",
   "execution_count": 4,
   "id": "fb6c8049",
   "metadata": {},
   "outputs": [
    {
     "name": "stdout",
     "output_type": "stream",
     "text": [
      "로우 방향으로 정렬: \n",
      " [[ 7  1]\n",
      " [ 8 12]]\n",
      "칼럼 방향으로 정렬:\n",
      " [[ 8 12]\n",
      " [ 1  7]]\n"
     ]
    }
   ],
   "source": [
    "#행렬이 2차원인 경우\n",
    "\n",
    "array2d = np.array([[8,12],\n",
    "                   [7,1]])\n",
    "\n",
    "sort_array2d_axis0 = np.sort(array2d,axis=0)\n",
    "print(\"로우 방향으로 정렬: \\n\", sort_array2d_axis0)\n",
    "\n",
    "sort_array2d_axis1 = np.sort(array2d, axis=1)\n",
    "print(\"칼럼 방향으로 정렬:\\n\", sort_array2d_axis1)"
   ]
  },
  {
   "cell_type": "code",
   "execution_count": 5,
   "id": "3f30e82c",
   "metadata": {},
   "outputs": [
    {
     "name": "stdout",
     "output_type": "stream",
     "text": [
      "[[10  9]\n",
      " [ 5 15]]\n"
     ]
    }
   ],
   "source": [
    "#추가 예시\n",
    "\n",
    "myarray = np.array([[10,9],[5,15]])\n",
    "print(myarray)"
   ]
  },
  {
   "cell_type": "code",
   "execution_count": 7,
   "id": "768fe9db",
   "metadata": {},
   "outputs": [
    {
     "name": "stdout",
     "output_type": "stream",
     "text": [
      "[[ 5  9]\n",
      " [10 15]]\n"
     ]
    }
   ],
   "source": [
    "myarray_0 = np.sort(myarray,axis=0)\n",
    "print(myarray_0)"
   ]
  },
  {
   "cell_type": "code",
   "execution_count": 8,
   "id": "8f0fe7e6",
   "metadata": {},
   "outputs": [
    {
     "name": "stdout",
     "output_type": "stream",
     "text": [
      "[[ 9 10]\n",
      " [ 5 15]]\n"
     ]
    }
   ],
   "source": [
    "myarray_1 = np.sort(myarray,axis=1)\n",
    "print(myarray_1)"
   ]
  },
  {
   "cell_type": "markdown",
   "id": "31999f98",
   "metadata": {},
   "source": [
    "\n",
    "## 정렬된 행렬의 인덱스를 반환하기 "
   ]
  },
  {
   "cell_type": "code",
   "execution_count": 11,
   "id": "9d75767e",
   "metadata": {},
   "outputs": [
    {
     "name": "stdout",
     "output_type": "stream",
     "text": [
      "<class 'numpy.ndarray'>\n",
      "행렬 정렬 시 원본 행렬의 인덱스: [1 0 3 2]\n"
     ]
    }
   ],
   "source": [
    "org_array = np.array([3,1,9,5])\n",
    "sort_indices = np.argsort(org_array)\n",
    "print(type(sort_indices))\n",
    "print(\"행렬 정렬 시 원본 행렬의 인덱스:\" , sort_indices)"
   ]
  },
  {
   "cell_type": "code",
   "execution_count": 13,
   "id": "3b39665b",
   "metadata": {},
   "outputs": [
    {
     "name": "stdout",
     "output_type": "stream",
     "text": [
      "행렬 내림차순 정렬 시 원본 행렬의 인덱스: [2 3 0 1]\n"
     ]
    }
   ],
   "source": [
    "org_array = np.array([3,1,9,5])\n",
    "sort_indices_desc = np.argsort(org_array)[::-1]\n",
    "print(\"행렬 내림차순 정렬 시 원본 행렬의 인덱스:\", sort_indices_desc)"
   ]
  },
  {
   "cell_type": "code",
   "execution_count": 14,
   "id": "906b0b47",
   "metadata": {},
   "outputs": [],
   "source": [
    "import numpy as np\n",
    "\n",
    "name_array = np.array([\"john\",\"mike\",\"sarah\",\"kate\",\"samuel\"])\n",
    "score_array = np.array([78,95,84,98,88])\n",
    "sort_indices_asc = np.argsort(score_array)"
   ]
  },
  {
   "cell_type": "code",
   "execution_count": 17,
   "id": "e9853c53",
   "metadata": {},
   "outputs": [
    {
     "name": "stdout",
     "output_type": "stream",
     "text": [
      "성적 오름차순 정렬 시 score_array의 인덱스: [0 2 4 1 3]\n",
      "성적 오름차순으로 name_array의 이름 출력: ['john' 'sarah' 'samuel' 'mike' 'kate']\n"
     ]
    }
   ],
   "source": [
    "print(\"성적 오름차순 정렬 시 score_array의 인덱스:\", sort_indices_asc)\n",
    "print(\"성적 오름차순으로 name_array의 이름 출력:\", name_array[sort_indices_asc])"
   ]
  },
  {
   "cell_type": "markdown",
   "id": "38413e1d",
   "metadata": {},
   "source": [
    "# 선형대수 연산 - 행렬 내적과 전치행렬 구하기"
   ]
  },
  {
   "cell_type": "markdown",
   "id": "9e843da4",
   "metadata": {},
   "source": [
    "## 행렬내적(행렬곱)"
   ]
  },
  {
   "cell_type": "code",
   "execution_count": 8,
   "id": "8fb8253a",
   "metadata": {},
   "outputs": [],
   "source": [
    "A = np.array([[1,2,3],\n",
    "             [4,5,6]])\n",
    "\n",
    "B = np.array([[7,8],\n",
    "             [9,10],\n",
    "             [11,12]])"
   ]
  },
  {
   "cell_type": "code",
   "execution_count": 12,
   "id": "f04a4ecd",
   "metadata": {},
   "outputs": [
    {
     "name": "stdout",
     "output_type": "stream",
     "text": [
      "행렬 내적 결과:\n",
      " [[ 58  64]\n",
      " [139 154]]\n"
     ]
    }
   ],
   "source": [
    "dot_product = np.dot(A,B)\n",
    "print(\"행렬 내적 결과:\\n\", dot_product)"
   ]
  },
  {
   "cell_type": "markdown",
   "id": "b34c2468",
   "metadata": {},
   "source": [
    "## 전치행렬"
   ]
  },
  {
   "cell_type": "code",
   "execution_count": 13,
   "id": "1e79308d",
   "metadata": {},
   "outputs": [
    {
     "name": "stdout",
     "output_type": "stream",
     "text": [
      "A의 전치 행렬:\n",
      " [[1 3]\n",
      " [2 4]]\n"
     ]
    }
   ],
   "source": [
    "A = np.array([[1,2],\n",
    "             [3,4]])\n",
    "\n",
    "transpose_mat = np.transpose(A)\n",
    "print(\"A의 전치 행렬:\\n\", transpose_mat)"
   ]
  }
 ],
 "metadata": {
  "kernelspec": {
   "display_name": "Python 3 (ipykernel)",
   "language": "python",
   "name": "python3"
  },
  "language_info": {
   "codemirror_mode": {
    "name": "ipython",
    "version": 3
   },
   "file_extension": ".py",
   "mimetype": "text/x-python",
   "name": "python",
   "nbconvert_exporter": "python",
   "pygments_lexer": "ipython3",
   "version": "3.9.13"
  }
 },
 "nbformat": 4,
 "nbformat_minor": 5
}
