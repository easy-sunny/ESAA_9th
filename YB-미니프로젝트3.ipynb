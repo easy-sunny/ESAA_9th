{
 "cells": [
  {
   "cell_type": "code",
   "execution_count": null,
   "id": "f8fe6db5",
   "metadata": {
    "id": "f8fe6db5"
   },
   "outputs": [],
   "source": [
    "import pandas as pd\n",
    "import numpy as np\n"
   ]
  },
  {
   "cell_type": "code",
   "execution_count": null,
   "id": "3hEXxe2Odk7C",
   "metadata": {
    "colab": {
     "base_uri": "https://localhost:8080/"
    },
    "executionInfo": {
     "elapsed": 2379,
     "status": "ok",
     "timestamp": 1702878606167,
     "user": {
      "displayName": "유정민",
      "userId": "18266290192937464787"
     },
     "user_tz": -540
    },
    "id": "3hEXxe2Odk7C",
    "outputId": "0e2c5a55-5f2c-4752-f226-f656b53ca82e"
   },
   "outputs": [
    {
     "name": "stdout",
     "output_type": "stream",
     "text": [
      "Drive already mounted at /content/gdrive; to attempt to forcibly remount, call drive.mount(\"/content/gdrive\", force_remount=True).\n"
     ]
    }
   ],
   "source": [
    "from google.colab import drive\n",
    "drive.mount('/content/gdrive')\n",
    "train = pd.read_csv('/content/gdrive/MyDrive/ESAA/data/movies/movies_train.csv')"
   ]
  },
  {
   "cell_type": "markdown",
   "id": "b7873d26",
   "metadata": {},
   "source": [
    "# multinomial - 회귀 (다중공선성, 스케일링 방법2가지)"
   ]
  },
  {
   "cell_type": "code",
   "execution_count": null,
   "id": "f517d988",
   "metadata": {
    "id": "f517d988"
   },
   "outputs": [],
   "source": [
    "train1 = train.copy()\n",
    "\n",
    "train1['dir_prev_bfnum'].fillna(0, inplace=True)\n",
    "\n",
    "# 년도,월 col 만들고 드랍\n",
    "train1['release_time']=pd.to_datetime(train1['release_time'])\n",
    "\n",
    "train1['release_year']=train1['release_time'].dt.year\n",
    "train1['release_month']=train1['release_time'].dt.month\n",
    "train1 = train1.drop(['release_time'],axis=1)\n",
    "\n",
    "# title, director 드랍\n",
    "train1 = train1.drop(['title','director'],axis=1)\n",
    "\n",
    "# 장르 원핫인코딩\n",
    "train1 = pd.get_dummies(train1, columns = ['genre'])\n",
    "\n",
    "#배급사 전처리\n",
    "distributor_list = train1.distributor.value_counts()[:5]\n",
    "def func(distributor):\n",
    "    if distributor in distributor_list:\n",
    "        return distributor\n",
    "    else:\n",
    "        return '기타'\n",
    "\n",
    "train1['distributor'] = train1['distributor'].apply(lambda x : func(x))\n",
    "\n",
    "# 배급사 원핫인코딩\n",
    "train1 = pd.get_dummies(train1, columns = ['distributor'])\n",
    "\n",
    "# 관람등급 원핫인코딩\n",
    "train1 = pd.get_dummies(train1, columns = [\"screening_rat\"])\n",
    "\n",
    "# 개봉연도, 월 원핫인코딩\n",
    "train1 = pd.get_dummies(train1, columns = [\"release_year\"])\n",
    "train1 = pd.get_dummies(train1, columns = [\"release_month\"])"
   ]
  },
  {
   "cell_type": "code",
   "execution_count": null,
   "id": "cd5a5631",
   "metadata": {
    "id": "cd5a5631"
   },
   "outputs": [],
   "source": [
    "train2 = train.copy()\n",
    "\n",
    "train2['dir_prev_bfnum'].fillna(0, inplace=True)\n",
    "\n",
    "# 년도,월 col 만들고 드랍\n",
    "train2['release_time']=pd.to_datetime(train2['release_time'])\n",
    "\n",
    "train2['release_year']=train2['release_time'].dt.year\n",
    "train2['release_month']=train2['release_time'].dt.month\n",
    "train2 = train2.drop(['release_time'],axis=1)\n",
    "\n",
    "# title, director 드랍\n",
    "train2 = train2.drop(['title','director'],axis=1)\n",
    "\n",
    "# 장르 원핫인코딩\n",
    "train2 = pd.get_dummies(train2, columns = ['genre'],drop_first=True)\n",
    "\n",
    "#배급사 전처리\n",
    "distributor_list = train2.distributor.value_counts()[:5]\n",
    "def func(distributor):\n",
    "    if distributor in distributor_list:\n",
    "        return distributor\n",
    "    else:\n",
    "        return '기타'\n",
    "\n",
    "train2['distributor'] = train2['distributor'].apply(lambda x : func(x))\n",
    "\n",
    "# 배급사 원핫인코딩\n",
    "train2 = pd.get_dummies(train2, columns = ['distributor'], drop_first=True)\n",
    "\n",
    "# 관람등급 원핫인코딩\n",
    "train2 = pd.get_dummies(train2, columns = [\"screening_rat\"], drop_first=True)\n",
    "\n",
    "# 개봉연도, 월 원핫인코딩\n",
    "train2 = pd.get_dummies(train2, columns = [\"release_year\"], drop_first=True)\n",
    "train2 = pd.get_dummies(train2, columns = [\"release_month\"], drop_first=True)"
   ]
  },
  {
   "cell_type": "code",
   "execution_count": null,
   "id": "74c6b7eb",
   "metadata": {
    "colab": {
     "base_uri": "https://localhost:8080/"
    },
    "executionInfo": {
     "elapsed": 276,
     "status": "ok",
     "timestamp": 1702878502440,
     "user": {
      "displayName": "유정민",
      "userId": "18266290192937464787"
     },
     "user_tz": -540
    },
    "id": "74c6b7eb",
    "outputId": "77f40e3c-caae-4417-ef4c-17bbc9b96105"
   },
   "outputs": [
    {
     "data": {
      "text/plain": [
       "Index(['time', 'dir_prev_bfnum', 'dir_prev_num', 'num_staff', 'num_actor',\n",
       "       'box_off_num', 'genre_공포', 'genre_느와르', 'genre_다큐멘터리', 'genre_드라마',\n",
       "       'genre_멜로/로맨스', 'genre_뮤지컬', 'genre_미스터리', 'genre_서스펜스', 'genre_애니메이션',\n",
       "       'genre_액션', 'genre_코미디', 'distributor_(주)마운틴픽쳐스', 'distributor_(주)쇼박스',\n",
       "       'distributor_CJ 엔터테인먼트', 'distributor_기타', 'distributor_롯데엔터테인먼트',\n",
       "       'screening_rat_15세 관람가', 'screening_rat_전체 관람가',\n",
       "       'screening_rat_청소년 관람불가', 'release_year_2011', 'release_year_2012',\n",
       "       'release_year_2013', 'release_year_2014', 'release_year_2015',\n",
       "       'release_month_2', 'release_month_3', 'release_month_4',\n",
       "       'release_month_5', 'release_month_6', 'release_month_7',\n",
       "       'release_month_8', 'release_month_9', 'release_month_10',\n",
       "       'release_month_11', 'release_month_12'],\n",
       "      dtype='object')"
      ]
     },
     "execution_count": 7,
     "metadata": {},
     "output_type": "execute_result"
    }
   ],
   "source": [
    "train2.columns"
   ]
  },
  {
   "cell_type": "code",
   "execution_count": null,
   "id": "a59179fb",
   "metadata": {
    "colab": {
     "base_uri": "https://localhost:8080/"
    },
    "executionInfo": {
     "elapsed": 453,
     "status": "ok",
     "timestamp": 1702878505344,
     "user": {
      "displayName": "유정민",
      "userId": "18266290192937464787"
     },
     "user_tz": -540
    },
    "id": "a59179fb",
    "outputId": "aa62988d-6a2a-491f-8ce2-96f6a92eaa02"
   },
   "outputs": [
    {
     "data": {
      "text/plain": [
       "Index(['time', 'dir_prev_bfnum', 'dir_prev_num', 'num_staff', 'num_actor',\n",
       "       'box_off_num', 'genre_SF', 'genre_공포', 'genre_느와르', 'genre_다큐멘터리',\n",
       "       'genre_드라마', 'genre_멜로/로맨스', 'genre_뮤지컬', 'genre_미스터리', 'genre_서스펜스',\n",
       "       'genre_애니메이션', 'genre_액션', 'genre_코미디', 'distributor_(주)NEW',\n",
       "       'distributor_(주)마운틴픽쳐스', 'distributor_(주)쇼박스', 'distributor_CJ 엔터테인먼트',\n",
       "       'distributor_기타', 'distributor_롯데엔터테인먼트', 'screening_rat_12세 관람가',\n",
       "       'screening_rat_15세 관람가', 'screening_rat_전체 관람가',\n",
       "       'screening_rat_청소년 관람불가', 'release_year_2010', 'release_year_2011',\n",
       "       'release_year_2012', 'release_year_2013', 'release_year_2014',\n",
       "       'release_year_2015', 'release_month_1', 'release_month_2',\n",
       "       'release_month_3', 'release_month_4', 'release_month_5',\n",
       "       'release_month_6', 'release_month_7', 'release_month_8',\n",
       "       'release_month_9', 'release_month_10', 'release_month_11',\n",
       "       'release_month_12'],\n",
       "      dtype='object')"
      ]
     },
     "execution_count": 8,
     "metadata": {},
     "output_type": "execute_result"
    }
   ],
   "source": [
    "train1.columns"
   ]
  },
  {
   "cell_type": "code",
   "execution_count": null,
   "id": "bc022857",
   "metadata": {
    "id": "bc022857"
   },
   "outputs": [],
   "source": [
    "test1 = pd.read_csv('/content/gdrive/MyDrive/ESAA/data/movies/movies_test.csv')"
   ]
  },
  {
   "cell_type": "code",
   "execution_count": null,
   "id": "83585d4d",
   "metadata": {
    "id": "83585d4d"
   },
   "outputs": [],
   "source": [
    "test = test1.copy()\n",
    "\n",
    "test['dir_prev_bfnum'].fillna(0, inplace=True)\n",
    "\n",
    "# 년도,월 col 만들고 드랍\n",
    "test['release_time']=pd.to_datetime(test['release_time'])\n",
    "\n",
    "test['release_year']=test['release_time'].dt.year\n",
    "test['release_month']=test['release_time'].dt.month\n",
    "test = test.drop(['release_time'],axis=1)\n",
    "\n",
    "# title, director 드랍\n",
    "test = test.drop(['title','director'],axis=1)\n",
    "\n",
    "# 장르 원핫인코딩\n",
    "test = pd.get_dummies(test, columns = ['genre'])\n",
    "\n",
    "#배급사 전처리\n",
    "test['distributor'] = test['distributor'].apply(lambda x : func(x))\n",
    "\n",
    "# 배급사 원핫인코딩\n",
    "test = pd.get_dummies(test, columns = ['distributor'])\n",
    "\n",
    "# 관람등급 원핫인코딩\n",
    "test = pd.get_dummies(test, columns = [\"screening_rat\"])\n",
    "\n",
    "# 개봉연도, 월 원핫인코딩\n",
    "test = pd.get_dummies(test, columns = [\"release_year\"])\n",
    "test = pd.get_dummies(test, columns = [\"release_month\"])"
   ]
  },
  {
   "cell_type": "code",
   "execution_count": null,
   "id": "1d29fd11",
   "metadata": {
    "id": "1d29fd11"
   },
   "outputs": [],
   "source": [
    "test2 = test1.copy()\n",
    "\n",
    "test2['dir_prev_bfnum'].fillna(0, inplace=True)\n",
    "\n",
    "# 년도,월 col 만들고 드랍\n",
    "test2['release_time']=pd.to_datetime(test2['release_time'])\n",
    "\n",
    "test2['release_year']=test2['release_time'].dt.year\n",
    "test2['release_month']=test2['release_time'].dt.month\n",
    "test2 = test2.drop(['release_time'],axis=1)\n",
    "\n",
    "# title, director 드랍\n",
    "test2 = test2.drop(['title','director'],axis=1)\n",
    "\n",
    "# 장르 원핫인코딩\n",
    "test2 = pd.get_dummies(test2, columns = ['genre'],drop_first=True)\n",
    "\n",
    "#배급사 전처리\n",
    "test2['distributor'] = test2['distributor'].apply(lambda x : func(x))\n",
    "\n",
    "# 배급사 원핫인코딩\n",
    "test2 = pd.get_dummies(test2, columns = ['distributor'],drop_first=True)\n",
    "\n",
    "# 관람등급 원핫인코딩\n",
    "test2 = pd.get_dummies(test2, columns = [\"screening_rat\"], drop_first=True)\n",
    "\n",
    "# 개봉연도, 월 원핫인코딩\n",
    "test2 = pd.get_dummies(test2, columns = [\"release_year\"], drop_first=True)\n",
    "test2 = pd.get_dummies(test2, columns = [\"release_month\"], drop_first=True)"
   ]
  },
  {
   "cell_type": "code",
   "execution_count": null,
   "id": "6dc1f395",
   "metadata": {
    "id": "6dc1f395"
   },
   "outputs": [],
   "source": [
    "X1 =  train1.drop([\"box_off_num\"], axis=1 )\n",
    "Y1 = train1[\"box_off_num\"]"
   ]
  },
  {
   "cell_type": "code",
   "execution_count": null,
   "id": "4f4f170f",
   "metadata": {
    "id": "4f4f170f"
   },
   "outputs": [],
   "source": [
    "X2 = train2.drop([\"box_off_num\"],axis=1)\n",
    "Y2 = train2[\"box_off_num\"]"
   ]
  },
  {
   "cell_type": "code",
   "execution_count": null,
   "id": "5e7469b1",
   "metadata": {
    "colab": {
     "base_uri": "https://localhost:8080/",
     "height": 75
    },
    "executionInfo": {
     "elapsed": 1485,
     "status": "ok",
     "timestamp": 1702878538245,
     "user": {
      "displayName": "유정민",
      "userId": "18266290192937464787"
     },
     "user_tz": -540
    },
    "id": "5e7469b1",
    "outputId": "14832e2a-5216-4a78-cebb-4864bd37ac94"
   },
   "outputs": [
    {
     "data": {
      "text/html": [
       "<style>#sk-container-id-1 {color: black;background-color: white;}#sk-container-id-1 pre{padding: 0;}#sk-container-id-1 div.sk-toggleable {background-color: white;}#sk-container-id-1 label.sk-toggleable__label {cursor: pointer;display: block;width: 100%;margin-bottom: 0;padding: 0.3em;box-sizing: border-box;text-align: center;}#sk-container-id-1 label.sk-toggleable__label-arrow:before {content: \"▸\";float: left;margin-right: 0.25em;color: #696969;}#sk-container-id-1 label.sk-toggleable__label-arrow:hover:before {color: black;}#sk-container-id-1 div.sk-estimator:hover label.sk-toggleable__label-arrow:before {color: black;}#sk-container-id-1 div.sk-toggleable__content {max-height: 0;max-width: 0;overflow: hidden;text-align: left;background-color: #f0f8ff;}#sk-container-id-1 div.sk-toggleable__content pre {margin: 0.2em;color: black;border-radius: 0.25em;background-color: #f0f8ff;}#sk-container-id-1 input.sk-toggleable__control:checked~div.sk-toggleable__content {max-height: 200px;max-width: 100%;overflow: auto;}#sk-container-id-1 input.sk-toggleable__control:checked~label.sk-toggleable__label-arrow:before {content: \"▾\";}#sk-container-id-1 div.sk-estimator input.sk-toggleable__control:checked~label.sk-toggleable__label {background-color: #d4ebff;}#sk-container-id-1 div.sk-label input.sk-toggleable__control:checked~label.sk-toggleable__label {background-color: #d4ebff;}#sk-container-id-1 input.sk-hidden--visually {border: 0;clip: rect(1px 1px 1px 1px);clip: rect(1px, 1px, 1px, 1px);height: 1px;margin: -1px;overflow: hidden;padding: 0;position: absolute;width: 1px;}#sk-container-id-1 div.sk-estimator {font-family: monospace;background-color: #f0f8ff;border: 1px dotted black;border-radius: 0.25em;box-sizing: border-box;margin-bottom: 0.5em;}#sk-container-id-1 div.sk-estimator:hover {background-color: #d4ebff;}#sk-container-id-1 div.sk-parallel-item::after {content: \"\";width: 100%;border-bottom: 1px solid gray;flex-grow: 1;}#sk-container-id-1 div.sk-label:hover label.sk-toggleable__label {background-color: #d4ebff;}#sk-container-id-1 div.sk-serial::before {content: \"\";position: absolute;border-left: 1px solid gray;box-sizing: border-box;top: 0;bottom: 0;left: 50%;z-index: 0;}#sk-container-id-1 div.sk-serial {display: flex;flex-direction: column;align-items: center;background-color: white;padding-right: 0.2em;padding-left: 0.2em;position: relative;}#sk-container-id-1 div.sk-item {position: relative;z-index: 1;}#sk-container-id-1 div.sk-parallel {display: flex;align-items: stretch;justify-content: center;background-color: white;position: relative;}#sk-container-id-1 div.sk-item::before, #sk-container-id-1 div.sk-parallel-item::before {content: \"\";position: absolute;border-left: 1px solid gray;box-sizing: border-box;top: 0;bottom: 0;left: 50%;z-index: -1;}#sk-container-id-1 div.sk-parallel-item {display: flex;flex-direction: column;z-index: 1;position: relative;background-color: white;}#sk-container-id-1 div.sk-parallel-item:first-child::after {align-self: flex-end;width: 50%;}#sk-container-id-1 div.sk-parallel-item:last-child::after {align-self: flex-start;width: 50%;}#sk-container-id-1 div.sk-parallel-item:only-child::after {width: 0;}#sk-container-id-1 div.sk-dashed-wrapped {border: 1px dashed gray;margin: 0 0.4em 0.5em 0.4em;box-sizing: border-box;padding-bottom: 0.4em;background-color: white;}#sk-container-id-1 div.sk-label label {font-family: monospace;font-weight: bold;display: inline-block;line-height: 1.2em;}#sk-container-id-1 div.sk-label-container {text-align: center;}#sk-container-id-1 div.sk-container {/* jupyter's `normalize.less` sets `[hidden] { display: none; }` but bootstrap.min.css set `[hidden] { display: none !important; }` so we also need the `!important` here to be able to override the default hidden behavior on the sphinx rendered scikit-learn.org. See: https://github.com/scikit-learn/scikit-learn/issues/21755 */display: inline-block !important;position: relative;}#sk-container-id-1 div.sk-text-repr-fallback {display: none;}</style><div id=\"sk-container-id-1\" class=\"sk-top-container\"><div class=\"sk-text-repr-fallback\"><pre>LinearRegression()</pre><b>In a Jupyter environment, please rerun this cell to show the HTML representation or trust the notebook. <br />On GitHub, the HTML representation is unable to render, please try loading this page with nbviewer.org.</b></div><div class=\"sk-container\" hidden><div class=\"sk-item\"><div class=\"sk-estimator sk-toggleable\"><input class=\"sk-toggleable__control sk-hidden--visually\" id=\"sk-estimator-id-1\" type=\"checkbox\" checked><label for=\"sk-estimator-id-1\" class=\"sk-toggleable__label sk-toggleable__label-arrow\">LinearRegression</label><div class=\"sk-toggleable__content\"><pre>LinearRegression()</pre></div></div></div></div></div>"
      ],
      "text/plain": [
       "LinearRegression()"
      ]
     },
     "execution_count": 14,
     "metadata": {},
     "output_type": "execute_result"
    }
   ],
   "source": [
    "from sklearn.linear_model import LinearRegression\n",
    "\n",
    "#선형 회귀 OLS로 학습/예측/평가 수행\n",
    "lr1 = LinearRegression()\n",
    "lr1.fit(X1, Y1)"
   ]
  },
  {
   "cell_type": "code",
   "execution_count": null,
   "id": "d3c02d5a",
   "metadata": {
    "colab": {
     "base_uri": "https://localhost:8080/",
     "height": 75
    },
    "executionInfo": {
     "elapsed": 324,
     "status": "ok",
     "timestamp": 1702878540213,
     "user": {
      "displayName": "유정민",
      "userId": "18266290192937464787"
     },
     "user_tz": -540
    },
    "id": "d3c02d5a",
    "outputId": "f75392d2-8507-4e46-ff44-793947181375"
   },
   "outputs": [
    {
     "data": {
      "text/html": [
       "<style>#sk-container-id-2 {color: black;background-color: white;}#sk-container-id-2 pre{padding: 0;}#sk-container-id-2 div.sk-toggleable {background-color: white;}#sk-container-id-2 label.sk-toggleable__label {cursor: pointer;display: block;width: 100%;margin-bottom: 0;padding: 0.3em;box-sizing: border-box;text-align: center;}#sk-container-id-2 label.sk-toggleable__label-arrow:before {content: \"▸\";float: left;margin-right: 0.25em;color: #696969;}#sk-container-id-2 label.sk-toggleable__label-arrow:hover:before {color: black;}#sk-container-id-2 div.sk-estimator:hover label.sk-toggleable__label-arrow:before {color: black;}#sk-container-id-2 div.sk-toggleable__content {max-height: 0;max-width: 0;overflow: hidden;text-align: left;background-color: #f0f8ff;}#sk-container-id-2 div.sk-toggleable__content pre {margin: 0.2em;color: black;border-radius: 0.25em;background-color: #f0f8ff;}#sk-container-id-2 input.sk-toggleable__control:checked~div.sk-toggleable__content {max-height: 200px;max-width: 100%;overflow: auto;}#sk-container-id-2 input.sk-toggleable__control:checked~label.sk-toggleable__label-arrow:before {content: \"▾\";}#sk-container-id-2 div.sk-estimator input.sk-toggleable__control:checked~label.sk-toggleable__label {background-color: #d4ebff;}#sk-container-id-2 div.sk-label input.sk-toggleable__control:checked~label.sk-toggleable__label {background-color: #d4ebff;}#sk-container-id-2 input.sk-hidden--visually {border: 0;clip: rect(1px 1px 1px 1px);clip: rect(1px, 1px, 1px, 1px);height: 1px;margin: -1px;overflow: hidden;padding: 0;position: absolute;width: 1px;}#sk-container-id-2 div.sk-estimator {font-family: monospace;background-color: #f0f8ff;border: 1px dotted black;border-radius: 0.25em;box-sizing: border-box;margin-bottom: 0.5em;}#sk-container-id-2 div.sk-estimator:hover {background-color: #d4ebff;}#sk-container-id-2 div.sk-parallel-item::after {content: \"\";width: 100%;border-bottom: 1px solid gray;flex-grow: 1;}#sk-container-id-2 div.sk-label:hover label.sk-toggleable__label {background-color: #d4ebff;}#sk-container-id-2 div.sk-serial::before {content: \"\";position: absolute;border-left: 1px solid gray;box-sizing: border-box;top: 0;bottom: 0;left: 50%;z-index: 0;}#sk-container-id-2 div.sk-serial {display: flex;flex-direction: column;align-items: center;background-color: white;padding-right: 0.2em;padding-left: 0.2em;position: relative;}#sk-container-id-2 div.sk-item {position: relative;z-index: 1;}#sk-container-id-2 div.sk-parallel {display: flex;align-items: stretch;justify-content: center;background-color: white;position: relative;}#sk-container-id-2 div.sk-item::before, #sk-container-id-2 div.sk-parallel-item::before {content: \"\";position: absolute;border-left: 1px solid gray;box-sizing: border-box;top: 0;bottom: 0;left: 50%;z-index: -1;}#sk-container-id-2 div.sk-parallel-item {display: flex;flex-direction: column;z-index: 1;position: relative;background-color: white;}#sk-container-id-2 div.sk-parallel-item:first-child::after {align-self: flex-end;width: 50%;}#sk-container-id-2 div.sk-parallel-item:last-child::after {align-self: flex-start;width: 50%;}#sk-container-id-2 div.sk-parallel-item:only-child::after {width: 0;}#sk-container-id-2 div.sk-dashed-wrapped {border: 1px dashed gray;margin: 0 0.4em 0.5em 0.4em;box-sizing: border-box;padding-bottom: 0.4em;background-color: white;}#sk-container-id-2 div.sk-label label {font-family: monospace;font-weight: bold;display: inline-block;line-height: 1.2em;}#sk-container-id-2 div.sk-label-container {text-align: center;}#sk-container-id-2 div.sk-container {/* jupyter's `normalize.less` sets `[hidden] { display: none; }` but bootstrap.min.css set `[hidden] { display: none !important; }` so we also need the `!important` here to be able to override the default hidden behavior on the sphinx rendered scikit-learn.org. See: https://github.com/scikit-learn/scikit-learn/issues/21755 */display: inline-block !important;position: relative;}#sk-container-id-2 div.sk-text-repr-fallback {display: none;}</style><div id=\"sk-container-id-2\" class=\"sk-top-container\"><div class=\"sk-text-repr-fallback\"><pre>LinearRegression()</pre><b>In a Jupyter environment, please rerun this cell to show the HTML representation or trust the notebook. <br />On GitHub, the HTML representation is unable to render, please try loading this page with nbviewer.org.</b></div><div class=\"sk-container\" hidden><div class=\"sk-item\"><div class=\"sk-estimator sk-toggleable\"><input class=\"sk-toggleable__control sk-hidden--visually\" id=\"sk-estimator-id-2\" type=\"checkbox\" checked><label for=\"sk-estimator-id-2\" class=\"sk-toggleable__label sk-toggleable__label-arrow\">LinearRegression</label><div class=\"sk-toggleable__content\"><pre>LinearRegression()</pre></div></div></div></div></div>"
      ],
      "text/plain": [
       "LinearRegression()"
      ]
     },
     "execution_count": 15,
     "metadata": {},
     "output_type": "execute_result"
    }
   ],
   "source": [
    "from sklearn.linear_model import LinearRegression\n",
    "\n",
    "#선형 회귀 OLS로 학습/예측/평가 수행\n",
    "lr2 = LinearRegression()\n",
    "lr2.fit(X2, Y2)"
   ]
  },
  {
   "cell_type": "code",
   "execution_count": null,
   "id": "52440944",
   "metadata": {
    "id": "52440944"
   },
   "outputs": [],
   "source": [
    "pred1 = lr1.predict(test)"
   ]
  },
  {
   "cell_type": "code",
   "execution_count": null,
   "id": "77ed7883",
   "metadata": {
    "id": "77ed7883"
   },
   "outputs": [],
   "source": [
    "pred2 = lr2.predict(test2)"
   ]
  },
  {
   "cell_type": "code",
   "execution_count": null,
   "id": "8af59625",
   "metadata": {
    "id": "8af59625"
   },
   "outputs": [],
   "source": [
    "smpl_sub = pd.read_csv('/content/gdrive/MyDrive/ESAA/data/movies/submission.csv')"
   ]
  },
  {
   "cell_type": "code",
   "execution_count": null,
   "id": "3016244c",
   "metadata": {
    "id": "3016244c"
   },
   "outputs": [],
   "source": [
    "smpl_sub[\"box_off_num\"]= pred1\n",
    "smpl_sub.to_csv('submission1.csv', index=False)"
   ]
  },
  {
   "cell_type": "code",
   "execution_count": null,
   "id": "12b071cc",
   "metadata": {
    "id": "12b071cc"
   },
   "outputs": [],
   "source": [
    "smpl_sub[\"box_off_num\"]= pred2\n",
    "smpl_sub.to_csv('submission2.csv', index=False)"
   ]
  },
  {
   "cell_type": "code",
   "execution_count": null,
   "id": "dfb291c8",
   "metadata": {
    "colab": {
     "base_uri": "https://localhost:8080/",
     "height": 75
    },
    "executionInfo": {
     "elapsed": 3,
     "status": "ok",
     "timestamp": 1702878565593,
     "user": {
      "displayName": "유정민",
      "userId": "18266290192937464787"
     },
     "user_tz": -540
    },
    "id": "dfb291c8",
    "outputId": "774de3b9-4621-45e4-a496-be2095f33069"
   },
   "outputs": [
    {
     "data": {
      "text/html": [
       "<style>#sk-container-id-3 {color: black;background-color: white;}#sk-container-id-3 pre{padding: 0;}#sk-container-id-3 div.sk-toggleable {background-color: white;}#sk-container-id-3 label.sk-toggleable__label {cursor: pointer;display: block;width: 100%;margin-bottom: 0;padding: 0.3em;box-sizing: border-box;text-align: center;}#sk-container-id-3 label.sk-toggleable__label-arrow:before {content: \"▸\";float: left;margin-right: 0.25em;color: #696969;}#sk-container-id-3 label.sk-toggleable__label-arrow:hover:before {color: black;}#sk-container-id-3 div.sk-estimator:hover label.sk-toggleable__label-arrow:before {color: black;}#sk-container-id-3 div.sk-toggleable__content {max-height: 0;max-width: 0;overflow: hidden;text-align: left;background-color: #f0f8ff;}#sk-container-id-3 div.sk-toggleable__content pre {margin: 0.2em;color: black;border-radius: 0.25em;background-color: #f0f8ff;}#sk-container-id-3 input.sk-toggleable__control:checked~div.sk-toggleable__content {max-height: 200px;max-width: 100%;overflow: auto;}#sk-container-id-3 input.sk-toggleable__control:checked~label.sk-toggleable__label-arrow:before {content: \"▾\";}#sk-container-id-3 div.sk-estimator input.sk-toggleable__control:checked~label.sk-toggleable__label {background-color: #d4ebff;}#sk-container-id-3 div.sk-label input.sk-toggleable__control:checked~label.sk-toggleable__label {background-color: #d4ebff;}#sk-container-id-3 input.sk-hidden--visually {border: 0;clip: rect(1px 1px 1px 1px);clip: rect(1px, 1px, 1px, 1px);height: 1px;margin: -1px;overflow: hidden;padding: 0;position: absolute;width: 1px;}#sk-container-id-3 div.sk-estimator {font-family: monospace;background-color: #f0f8ff;border: 1px dotted black;border-radius: 0.25em;box-sizing: border-box;margin-bottom: 0.5em;}#sk-container-id-3 div.sk-estimator:hover {background-color: #d4ebff;}#sk-container-id-3 div.sk-parallel-item::after {content: \"\";width: 100%;border-bottom: 1px solid gray;flex-grow: 1;}#sk-container-id-3 div.sk-label:hover label.sk-toggleable__label {background-color: #d4ebff;}#sk-container-id-3 div.sk-serial::before {content: \"\";position: absolute;border-left: 1px solid gray;box-sizing: border-box;top: 0;bottom: 0;left: 50%;z-index: 0;}#sk-container-id-3 div.sk-serial {display: flex;flex-direction: column;align-items: center;background-color: white;padding-right: 0.2em;padding-left: 0.2em;position: relative;}#sk-container-id-3 div.sk-item {position: relative;z-index: 1;}#sk-container-id-3 div.sk-parallel {display: flex;align-items: stretch;justify-content: center;background-color: white;position: relative;}#sk-container-id-3 div.sk-item::before, #sk-container-id-3 div.sk-parallel-item::before {content: \"\";position: absolute;border-left: 1px solid gray;box-sizing: border-box;top: 0;bottom: 0;left: 50%;z-index: -1;}#sk-container-id-3 div.sk-parallel-item {display: flex;flex-direction: column;z-index: 1;position: relative;background-color: white;}#sk-container-id-3 div.sk-parallel-item:first-child::after {align-self: flex-end;width: 50%;}#sk-container-id-3 div.sk-parallel-item:last-child::after {align-self: flex-start;width: 50%;}#sk-container-id-3 div.sk-parallel-item:only-child::after {width: 0;}#sk-container-id-3 div.sk-dashed-wrapped {border: 1px dashed gray;margin: 0 0.4em 0.5em 0.4em;box-sizing: border-box;padding-bottom: 0.4em;background-color: white;}#sk-container-id-3 div.sk-label label {font-family: monospace;font-weight: bold;display: inline-block;line-height: 1.2em;}#sk-container-id-3 div.sk-label-container {text-align: center;}#sk-container-id-3 div.sk-container {/* jupyter's `normalize.less` sets `[hidden] { display: none; }` but bootstrap.min.css set `[hidden] { display: none !important; }` so we also need the `!important` here to be able to override the default hidden behavior on the sphinx rendered scikit-learn.org. See: https://github.com/scikit-learn/scikit-learn/issues/21755 */display: inline-block !important;position: relative;}#sk-container-id-3 div.sk-text-repr-fallback {display: none;}</style><div id=\"sk-container-id-3\" class=\"sk-top-container\"><div class=\"sk-text-repr-fallback\"><pre>LinearRegression()</pre><b>In a Jupyter environment, please rerun this cell to show the HTML representation or trust the notebook. <br />On GitHub, the HTML representation is unable to render, please try loading this page with nbviewer.org.</b></div><div class=\"sk-container\" hidden><div class=\"sk-item\"><div class=\"sk-estimator sk-toggleable\"><input class=\"sk-toggleable__control sk-hidden--visually\" id=\"sk-estimator-id-3\" type=\"checkbox\" checked><label for=\"sk-estimator-id-3\" class=\"sk-toggleable__label sk-toggleable__label-arrow\">LinearRegression</label><div class=\"sk-toggleable__content\"><pre>LinearRegression()</pre></div></div></div></div></div>"
      ],
      "text/plain": [
       "LinearRegression()"
      ]
     },
     "execution_count": 21,
     "metadata": {},
     "output_type": "execute_result"
    }
   ],
   "source": [
    "from sklearn.preprocessing import StandardScaler\n",
    "\n",
    "std = StandardScaler()\n",
    "std.fit(X1)\n",
    "X1_scaled = std.transform(X1)\n",
    "test1_scaled = std.transform(test)\n",
    "\n",
    "lr3 = LinearRegression()\n",
    "lr3.fit(X1_scaled, Y1)"
   ]
  },
  {
   "cell_type": "code",
   "execution_count": null,
   "id": "6cda8ad1",
   "metadata": {
    "colab": {
     "base_uri": "https://localhost:8080/",
     "height": 75
    },
    "executionInfo": {
     "elapsed": 3,
     "status": "ok",
     "timestamp": 1702878567070,
     "user": {
      "displayName": "유정민",
      "userId": "18266290192937464787"
     },
     "user_tz": -540
    },
    "id": "6cda8ad1",
    "outputId": "08e6862e-405c-4add-abf8-74823e038728"
   },
   "outputs": [
    {
     "data": {
      "text/html": [
       "<style>#sk-container-id-4 {color: black;background-color: white;}#sk-container-id-4 pre{padding: 0;}#sk-container-id-4 div.sk-toggleable {background-color: white;}#sk-container-id-4 label.sk-toggleable__label {cursor: pointer;display: block;width: 100%;margin-bottom: 0;padding: 0.3em;box-sizing: border-box;text-align: center;}#sk-container-id-4 label.sk-toggleable__label-arrow:before {content: \"▸\";float: left;margin-right: 0.25em;color: #696969;}#sk-container-id-4 label.sk-toggleable__label-arrow:hover:before {color: black;}#sk-container-id-4 div.sk-estimator:hover label.sk-toggleable__label-arrow:before {color: black;}#sk-container-id-4 div.sk-toggleable__content {max-height: 0;max-width: 0;overflow: hidden;text-align: left;background-color: #f0f8ff;}#sk-container-id-4 div.sk-toggleable__content pre {margin: 0.2em;color: black;border-radius: 0.25em;background-color: #f0f8ff;}#sk-container-id-4 input.sk-toggleable__control:checked~div.sk-toggleable__content {max-height: 200px;max-width: 100%;overflow: auto;}#sk-container-id-4 input.sk-toggleable__control:checked~label.sk-toggleable__label-arrow:before {content: \"▾\";}#sk-container-id-4 div.sk-estimator input.sk-toggleable__control:checked~label.sk-toggleable__label {background-color: #d4ebff;}#sk-container-id-4 div.sk-label input.sk-toggleable__control:checked~label.sk-toggleable__label {background-color: #d4ebff;}#sk-container-id-4 input.sk-hidden--visually {border: 0;clip: rect(1px 1px 1px 1px);clip: rect(1px, 1px, 1px, 1px);height: 1px;margin: -1px;overflow: hidden;padding: 0;position: absolute;width: 1px;}#sk-container-id-4 div.sk-estimator {font-family: monospace;background-color: #f0f8ff;border: 1px dotted black;border-radius: 0.25em;box-sizing: border-box;margin-bottom: 0.5em;}#sk-container-id-4 div.sk-estimator:hover {background-color: #d4ebff;}#sk-container-id-4 div.sk-parallel-item::after {content: \"\";width: 100%;border-bottom: 1px solid gray;flex-grow: 1;}#sk-container-id-4 div.sk-label:hover label.sk-toggleable__label {background-color: #d4ebff;}#sk-container-id-4 div.sk-serial::before {content: \"\";position: absolute;border-left: 1px solid gray;box-sizing: border-box;top: 0;bottom: 0;left: 50%;z-index: 0;}#sk-container-id-4 div.sk-serial {display: flex;flex-direction: column;align-items: center;background-color: white;padding-right: 0.2em;padding-left: 0.2em;position: relative;}#sk-container-id-4 div.sk-item {position: relative;z-index: 1;}#sk-container-id-4 div.sk-parallel {display: flex;align-items: stretch;justify-content: center;background-color: white;position: relative;}#sk-container-id-4 div.sk-item::before, #sk-container-id-4 div.sk-parallel-item::before {content: \"\";position: absolute;border-left: 1px solid gray;box-sizing: border-box;top: 0;bottom: 0;left: 50%;z-index: -1;}#sk-container-id-4 div.sk-parallel-item {display: flex;flex-direction: column;z-index: 1;position: relative;background-color: white;}#sk-container-id-4 div.sk-parallel-item:first-child::after {align-self: flex-end;width: 50%;}#sk-container-id-4 div.sk-parallel-item:last-child::after {align-self: flex-start;width: 50%;}#sk-container-id-4 div.sk-parallel-item:only-child::after {width: 0;}#sk-container-id-4 div.sk-dashed-wrapped {border: 1px dashed gray;margin: 0 0.4em 0.5em 0.4em;box-sizing: border-box;padding-bottom: 0.4em;background-color: white;}#sk-container-id-4 div.sk-label label {font-family: monospace;font-weight: bold;display: inline-block;line-height: 1.2em;}#sk-container-id-4 div.sk-label-container {text-align: center;}#sk-container-id-4 div.sk-container {/* jupyter's `normalize.less` sets `[hidden] { display: none; }` but bootstrap.min.css set `[hidden] { display: none !important; }` so we also need the `!important` here to be able to override the default hidden behavior on the sphinx rendered scikit-learn.org. See: https://github.com/scikit-learn/scikit-learn/issues/21755 */display: inline-block !important;position: relative;}#sk-container-id-4 div.sk-text-repr-fallback {display: none;}</style><div id=\"sk-container-id-4\" class=\"sk-top-container\"><div class=\"sk-text-repr-fallback\"><pre>LinearRegression()</pre><b>In a Jupyter environment, please rerun this cell to show the HTML representation or trust the notebook. <br />On GitHub, the HTML representation is unable to render, please try loading this page with nbviewer.org.</b></div><div class=\"sk-container\" hidden><div class=\"sk-item\"><div class=\"sk-estimator sk-toggleable\"><input class=\"sk-toggleable__control sk-hidden--visually\" id=\"sk-estimator-id-4\" type=\"checkbox\" checked><label for=\"sk-estimator-id-4\" class=\"sk-toggleable__label sk-toggleable__label-arrow\">LinearRegression</label><div class=\"sk-toggleable__content\"><pre>LinearRegression()</pre></div></div></div></div></div>"
      ],
      "text/plain": [
       "LinearRegression()"
      ]
     },
     "execution_count": 22,
     "metadata": {},
     "output_type": "execute_result"
    }
   ],
   "source": [
    "from sklearn.preprocessing import StandardScaler\n",
    "\n",
    "std = StandardScaler()\n",
    "std.fit(X2)\n",
    "X2_scaled = std.transform(X2)\n",
    "test2_scaled = std.transform(test2)\n",
    "\n",
    "lr4 = LinearRegression()\n",
    "lr4.fit(X2_scaled, Y2)"
   ]
  },
  {
   "cell_type": "code",
   "execution_count": null,
   "id": "0fdaacc7",
   "metadata": {
    "id": "0fdaacc7"
   },
   "outputs": [],
   "source": [
    "pred3 = lr3.predict(test1_scaled)"
   ]
  },
  {
   "cell_type": "code",
   "execution_count": null,
   "id": "3f5483e7",
   "metadata": {
    "id": "3f5483e7"
   },
   "outputs": [],
   "source": [
    "pred4 = lr4.predict(test2_scaled)"
   ]
  },
  {
   "cell_type": "code",
   "execution_count": null,
   "id": "0ae27504",
   "metadata": {
    "id": "0ae27504"
   },
   "outputs": [],
   "source": [
    "smpl_sub[\"box_off_num\"]= pred3\n",
    "smpl_sub.to_csv('submission3.csv', index=False)"
   ]
  },
  {
   "cell_type": "code",
   "execution_count": null,
   "id": "a192f7bb",
   "metadata": {
    "id": "a192f7bb"
   },
   "outputs": [],
   "source": [
    "smpl_sub[\"box_off_num\"]= pred4\n",
    "smpl_sub.to_csv('submission4.csv', index=False)"
   ]
  },
  {
   "cell_type": "code",
   "execution_count": null,
   "id": "72be5ef3",
   "metadata": {
    "colab": {
     "base_uri": "https://localhost:8080/",
     "height": 75
    },
    "executionInfo": {
     "elapsed": 3,
     "status": "ok",
     "timestamp": 1702878574730,
     "user": {
      "displayName": "유정민",
      "userId": "18266290192937464787"
     },
     "user_tz": -540
    },
    "id": "72be5ef3",
    "outputId": "c718d360-b1d4-4443-8aa1-926c32e2e50d"
   },
   "outputs": [
    {
     "data": {
      "text/html": [
       "<style>#sk-container-id-5 {color: black;background-color: white;}#sk-container-id-5 pre{padding: 0;}#sk-container-id-5 div.sk-toggleable {background-color: white;}#sk-container-id-5 label.sk-toggleable__label {cursor: pointer;display: block;width: 100%;margin-bottom: 0;padding: 0.3em;box-sizing: border-box;text-align: center;}#sk-container-id-5 label.sk-toggleable__label-arrow:before {content: \"▸\";float: left;margin-right: 0.25em;color: #696969;}#sk-container-id-5 label.sk-toggleable__label-arrow:hover:before {color: black;}#sk-container-id-5 div.sk-estimator:hover label.sk-toggleable__label-arrow:before {color: black;}#sk-container-id-5 div.sk-toggleable__content {max-height: 0;max-width: 0;overflow: hidden;text-align: left;background-color: #f0f8ff;}#sk-container-id-5 div.sk-toggleable__content pre {margin: 0.2em;color: black;border-radius: 0.25em;background-color: #f0f8ff;}#sk-container-id-5 input.sk-toggleable__control:checked~div.sk-toggleable__content {max-height: 200px;max-width: 100%;overflow: auto;}#sk-container-id-5 input.sk-toggleable__control:checked~label.sk-toggleable__label-arrow:before {content: \"▾\";}#sk-container-id-5 div.sk-estimator input.sk-toggleable__control:checked~label.sk-toggleable__label {background-color: #d4ebff;}#sk-container-id-5 div.sk-label input.sk-toggleable__control:checked~label.sk-toggleable__label {background-color: #d4ebff;}#sk-container-id-5 input.sk-hidden--visually {border: 0;clip: rect(1px 1px 1px 1px);clip: rect(1px, 1px, 1px, 1px);height: 1px;margin: -1px;overflow: hidden;padding: 0;position: absolute;width: 1px;}#sk-container-id-5 div.sk-estimator {font-family: monospace;background-color: #f0f8ff;border: 1px dotted black;border-radius: 0.25em;box-sizing: border-box;margin-bottom: 0.5em;}#sk-container-id-5 div.sk-estimator:hover {background-color: #d4ebff;}#sk-container-id-5 div.sk-parallel-item::after {content: \"\";width: 100%;border-bottom: 1px solid gray;flex-grow: 1;}#sk-container-id-5 div.sk-label:hover label.sk-toggleable__label {background-color: #d4ebff;}#sk-container-id-5 div.sk-serial::before {content: \"\";position: absolute;border-left: 1px solid gray;box-sizing: border-box;top: 0;bottom: 0;left: 50%;z-index: 0;}#sk-container-id-5 div.sk-serial {display: flex;flex-direction: column;align-items: center;background-color: white;padding-right: 0.2em;padding-left: 0.2em;position: relative;}#sk-container-id-5 div.sk-item {position: relative;z-index: 1;}#sk-container-id-5 div.sk-parallel {display: flex;align-items: stretch;justify-content: center;background-color: white;position: relative;}#sk-container-id-5 div.sk-item::before, #sk-container-id-5 div.sk-parallel-item::before {content: \"\";position: absolute;border-left: 1px solid gray;box-sizing: border-box;top: 0;bottom: 0;left: 50%;z-index: -1;}#sk-container-id-5 div.sk-parallel-item {display: flex;flex-direction: column;z-index: 1;position: relative;background-color: white;}#sk-container-id-5 div.sk-parallel-item:first-child::after {align-self: flex-end;width: 50%;}#sk-container-id-5 div.sk-parallel-item:last-child::after {align-self: flex-start;width: 50%;}#sk-container-id-5 div.sk-parallel-item:only-child::after {width: 0;}#sk-container-id-5 div.sk-dashed-wrapped {border: 1px dashed gray;margin: 0 0.4em 0.5em 0.4em;box-sizing: border-box;padding-bottom: 0.4em;background-color: white;}#sk-container-id-5 div.sk-label label {font-family: monospace;font-weight: bold;display: inline-block;line-height: 1.2em;}#sk-container-id-5 div.sk-label-container {text-align: center;}#sk-container-id-5 div.sk-container {/* jupyter's `normalize.less` sets `[hidden] { display: none; }` but bootstrap.min.css set `[hidden] { display: none !important; }` so we also need the `!important` here to be able to override the default hidden behavior on the sphinx rendered scikit-learn.org. See: https://github.com/scikit-learn/scikit-learn/issues/21755 */display: inline-block !important;position: relative;}#sk-container-id-5 div.sk-text-repr-fallback {display: none;}</style><div id=\"sk-container-id-5\" class=\"sk-top-container\"><div class=\"sk-text-repr-fallback\"><pre>LinearRegression()</pre><b>In a Jupyter environment, please rerun this cell to show the HTML representation or trust the notebook. <br />On GitHub, the HTML representation is unable to render, please try loading this page with nbviewer.org.</b></div><div class=\"sk-container\" hidden><div class=\"sk-item\"><div class=\"sk-estimator sk-toggleable\"><input class=\"sk-toggleable__control sk-hidden--visually\" id=\"sk-estimator-id-5\" type=\"checkbox\" checked><label for=\"sk-estimator-id-5\" class=\"sk-toggleable__label sk-toggleable__label-arrow\">LinearRegression</label><div class=\"sk-toggleable__content\"><pre>LinearRegression()</pre></div></div></div></div></div>"
      ],
      "text/plain": [
       "LinearRegression()"
      ]
     },
     "execution_count": 27,
     "metadata": {},
     "output_type": "execute_result"
    }
   ],
   "source": [
    "from sklearn.preprocessing import RobustScaler\n",
    "\n",
    "rbs = RobustScaler()\n",
    "X1_rb = rbs.fit_transform(X1)\n",
    "test1_rb = rbs.transform(test)\n",
    "lr5 = LinearRegression()\n",
    "lr5.fit(X1_rb, Y1)"
   ]
  },
  {
   "cell_type": "code",
   "execution_count": null,
   "id": "2c56c045",
   "metadata": {
    "colab": {
     "base_uri": "https://localhost:8080/",
     "height": 75
    },
    "executionInfo": {
     "elapsed": 3,
     "status": "ok",
     "timestamp": 1702878576428,
     "user": {
      "displayName": "유정민",
      "userId": "18266290192937464787"
     },
     "user_tz": -540
    },
    "id": "2c56c045",
    "outputId": "a8f43a13-b38c-432f-edb7-040cce34164d"
   },
   "outputs": [
    {
     "data": {
      "text/html": [
       "<style>#sk-container-id-6 {color: black;background-color: white;}#sk-container-id-6 pre{padding: 0;}#sk-container-id-6 div.sk-toggleable {background-color: white;}#sk-container-id-6 label.sk-toggleable__label {cursor: pointer;display: block;width: 100%;margin-bottom: 0;padding: 0.3em;box-sizing: border-box;text-align: center;}#sk-container-id-6 label.sk-toggleable__label-arrow:before {content: \"▸\";float: left;margin-right: 0.25em;color: #696969;}#sk-container-id-6 label.sk-toggleable__label-arrow:hover:before {color: black;}#sk-container-id-6 div.sk-estimator:hover label.sk-toggleable__label-arrow:before {color: black;}#sk-container-id-6 div.sk-toggleable__content {max-height: 0;max-width: 0;overflow: hidden;text-align: left;background-color: #f0f8ff;}#sk-container-id-6 div.sk-toggleable__content pre {margin: 0.2em;color: black;border-radius: 0.25em;background-color: #f0f8ff;}#sk-container-id-6 input.sk-toggleable__control:checked~div.sk-toggleable__content {max-height: 200px;max-width: 100%;overflow: auto;}#sk-container-id-6 input.sk-toggleable__control:checked~label.sk-toggleable__label-arrow:before {content: \"▾\";}#sk-container-id-6 div.sk-estimator input.sk-toggleable__control:checked~label.sk-toggleable__label {background-color: #d4ebff;}#sk-container-id-6 div.sk-label input.sk-toggleable__control:checked~label.sk-toggleable__label {background-color: #d4ebff;}#sk-container-id-6 input.sk-hidden--visually {border: 0;clip: rect(1px 1px 1px 1px);clip: rect(1px, 1px, 1px, 1px);height: 1px;margin: -1px;overflow: hidden;padding: 0;position: absolute;width: 1px;}#sk-container-id-6 div.sk-estimator {font-family: monospace;background-color: #f0f8ff;border: 1px dotted black;border-radius: 0.25em;box-sizing: border-box;margin-bottom: 0.5em;}#sk-container-id-6 div.sk-estimator:hover {background-color: #d4ebff;}#sk-container-id-6 div.sk-parallel-item::after {content: \"\";width: 100%;border-bottom: 1px solid gray;flex-grow: 1;}#sk-container-id-6 div.sk-label:hover label.sk-toggleable__label {background-color: #d4ebff;}#sk-container-id-6 div.sk-serial::before {content: \"\";position: absolute;border-left: 1px solid gray;box-sizing: border-box;top: 0;bottom: 0;left: 50%;z-index: 0;}#sk-container-id-6 div.sk-serial {display: flex;flex-direction: column;align-items: center;background-color: white;padding-right: 0.2em;padding-left: 0.2em;position: relative;}#sk-container-id-6 div.sk-item {position: relative;z-index: 1;}#sk-container-id-6 div.sk-parallel {display: flex;align-items: stretch;justify-content: center;background-color: white;position: relative;}#sk-container-id-6 div.sk-item::before, #sk-container-id-6 div.sk-parallel-item::before {content: \"\";position: absolute;border-left: 1px solid gray;box-sizing: border-box;top: 0;bottom: 0;left: 50%;z-index: -1;}#sk-container-id-6 div.sk-parallel-item {display: flex;flex-direction: column;z-index: 1;position: relative;background-color: white;}#sk-container-id-6 div.sk-parallel-item:first-child::after {align-self: flex-end;width: 50%;}#sk-container-id-6 div.sk-parallel-item:last-child::after {align-self: flex-start;width: 50%;}#sk-container-id-6 div.sk-parallel-item:only-child::after {width: 0;}#sk-container-id-6 div.sk-dashed-wrapped {border: 1px dashed gray;margin: 0 0.4em 0.5em 0.4em;box-sizing: border-box;padding-bottom: 0.4em;background-color: white;}#sk-container-id-6 div.sk-label label {font-family: monospace;font-weight: bold;display: inline-block;line-height: 1.2em;}#sk-container-id-6 div.sk-label-container {text-align: center;}#sk-container-id-6 div.sk-container {/* jupyter's `normalize.less` sets `[hidden] { display: none; }` but bootstrap.min.css set `[hidden] { display: none !important; }` so we also need the `!important` here to be able to override the default hidden behavior on the sphinx rendered scikit-learn.org. See: https://github.com/scikit-learn/scikit-learn/issues/21755 */display: inline-block !important;position: relative;}#sk-container-id-6 div.sk-text-repr-fallback {display: none;}</style><div id=\"sk-container-id-6\" class=\"sk-top-container\"><div class=\"sk-text-repr-fallback\"><pre>LinearRegression()</pre><b>In a Jupyter environment, please rerun this cell to show the HTML representation or trust the notebook. <br />On GitHub, the HTML representation is unable to render, please try loading this page with nbviewer.org.</b></div><div class=\"sk-container\" hidden><div class=\"sk-item\"><div class=\"sk-estimator sk-toggleable\"><input class=\"sk-toggleable__control sk-hidden--visually\" id=\"sk-estimator-id-6\" type=\"checkbox\" checked><label for=\"sk-estimator-id-6\" class=\"sk-toggleable__label sk-toggleable__label-arrow\">LinearRegression</label><div class=\"sk-toggleable__content\"><pre>LinearRegression()</pre></div></div></div></div></div>"
      ],
      "text/plain": [
       "LinearRegression()"
      ]
     },
     "execution_count": 28,
     "metadata": {},
     "output_type": "execute_result"
    }
   ],
   "source": [
    "from sklearn.preprocessing import RobustScaler\n",
    "\n",
    "rbs = RobustScaler()\n",
    "X2_rb = rbs.fit_transform(X2)\n",
    "test2_rb = rbs.transform(test2)\n",
    "lr6 = LinearRegression()\n",
    "lr6.fit(X2_rb, Y2)"
   ]
  },
  {
   "cell_type": "code",
   "execution_count": null,
   "id": "c9bef40b",
   "metadata": {
    "id": "c9bef40b"
   },
   "outputs": [],
   "source": [
    "pred5 = lr5.predict(test1_rb)\n",
    "smpl_sub[\"box_off_num\"]= pred5\n",
    "smpl_sub.to_csv('submission5.csv', index=False)"
   ]
  },
  {
   "cell_type": "code",
   "execution_count": null,
   "id": "4dc49c16",
   "metadata": {
    "id": "4dc49c16"
   },
   "outputs": [],
   "source": [
    "pred6 = lr6.predict(test2_rb)\n",
    "smpl_sub[\"box_off_num\"]= pred6\n",
    "smpl_sub.to_csv('submission6.csv', index=False)"
   ]
  },
  {
   "cell_type": "code",
   "execution_count": null,
   "id": "cfcc3b1b",
   "metadata": {
    "id": "cfcc3b1b"
   },
   "outputs": [],
   "source": [
    "from sklearn.preprocessing import RobustScaler\n",
    "\n",
    "rbs = RobustScaler()\n",
    "X1_rb = rbs.fit_transform(X1)\n",
    "test1_rb = rbs.transform(test)"
   ]
  },
  {
   "cell_type": "code",
   "execution_count": null,
   "id": "513208c4",
   "metadata": {
    "colab": {
     "base_uri": "https://localhost:8080/"
    },
    "executionInfo": {
     "elapsed": 1,
     "status": "ok",
     "timestamp": 1702878585083,
     "user": {
      "displayName": "유정민",
      "userId": "18266290192937464787"
     },
     "user_tz": -540
    },
    "id": "513208c4",
    "outputId": "161c1be1-ff40-4990-eaa7-b0eff4b82a86"
   },
   "outputs": [
    {
     "data": {
      "text/plain": [
       "Index(['time', 'dir_prev_bfnum', 'dir_prev_num', 'num_staff', 'num_actor',\n",
       "       'genre_SF', 'genre_공포', 'genre_느와르', 'genre_다큐멘터리', 'genre_드라마',\n",
       "       'genre_멜로/로맨스', 'genre_뮤지컬', 'genre_미스터리', 'genre_서스펜스', 'genre_애니메이션',\n",
       "       'genre_액션', 'genre_코미디', 'distributor_(주)NEW', 'distributor_(주)마운틴픽쳐스',\n",
       "       'distributor_(주)쇼박스', 'distributor_CJ 엔터테인먼트', 'distributor_기타',\n",
       "       'distributor_롯데엔터테인먼트', 'screening_rat_12세 관람가',\n",
       "       'screening_rat_15세 관람가', 'screening_rat_전체 관람가',\n",
       "       'screening_rat_청소년 관람불가', 'release_year_2010', 'release_year_2011',\n",
       "       'release_year_2012', 'release_year_2013', 'release_year_2014',\n",
       "       'release_year_2015', 'release_month_1', 'release_month_2',\n",
       "       'release_month_3', 'release_month_4', 'release_month_5',\n",
       "       'release_month_6', 'release_month_7', 'release_month_8',\n",
       "       'release_month_9', 'release_month_10', 'release_month_11',\n",
       "       'release_month_12'],\n",
       "      dtype='object')"
      ]
     },
     "execution_count": 32,
     "metadata": {},
     "output_type": "execute_result"
    }
   ],
   "source": [
    "X1.columns"
   ]
  },
  {
   "cell_type": "markdown",
   "id": "c8c60010",
   "metadata": {},
   "source": [
    "> 점수 : 1997396.5481417729"
   ]
  },
  {
   "cell_type": "code",
   "execution_count": null,
   "id": "145179f6",
   "metadata": {
    "id": "145179f6"
   },
   "outputs": [],
   "source": [
    "import pandas as pd\n",
    "train = pd.read_csv('/content/gdrive/MyDrive/ESAA/data/movies/movies_train.csv')\n",
    "\n",
    "train1 = train.copy()\n",
    "\n",
    "train1['dir_prev_bfnum'].fillna(0, inplace=True)\n",
    "\n",
    "# 년도,월 col 만들고 드랍\n",
    "train1['release_time']=pd.to_datetime(train1['release_time'])\n",
    "\n",
    "train1['release_year']=train1['release_time'].dt.year\n",
    "train1['release_month']=train1['release_time'].dt.month\n",
    "train1 = train1.drop(['release_time'],axis=1)\n",
    "\n",
    "# title, director 드랍\n",
    "train1 = train1.drop(['title','director'],axis=1)\n",
    "\n",
    "#배급사 전처리\n",
    "distributor_list = train1.distributor.value_counts()[:5]\n",
    "def func(distributor):\n",
    "    if distributor in distributor_list:\n",
    "        return distributor\n",
    "    else:\n",
    "        return '기타'\n",
    "\n",
    "train1['distributor'] = train1['distributor'].apply(lambda x : func(x))\n",
    "\n",
    "\n",
    "#원핫인코딩\n",
    "\n",
    "train1 = pd.get_dummies(train1)"
   ]
  },
  {
   "cell_type": "code",
   "execution_count": null,
   "id": "ccfc7733",
   "metadata": {
    "id": "ccfc7733"
   },
   "outputs": [],
   "source": [
    "test = pd.read_csv('/content/gdrive/MyDrive/ESAA/data/movies/movies_test.csv')\n",
    "\n",
    "test['dir_prev_bfnum'].fillna(0, inplace=True)\n",
    "\n",
    "# 년도,월 col 만들고 드랍\n",
    "test['release_time']=pd.to_datetime(test['release_time'])\n",
    "\n",
    "test['release_year']=test['release_time'].dt.year\n",
    "test['release_month']=test['release_time'].dt.month\n",
    "test = test.drop(['release_time'],axis=1)\n",
    "\n",
    "# title, director 드랍\n",
    "test = test.drop(['title','director'],axis=1)\n",
    "\n",
    "#배급사 전처리\n",
    "test['distributor'] = test['distributor'].apply(lambda x : func(x))\n",
    "\n",
    "test = pd.get_dummies(test)"
   ]
  },
  {
   "cell_type": "markdown",
   "id": "7426b1fb",
   "metadata": {
    "id": "7426b1fb"
   },
   "source": [
    "# 랜덤 포레스트"
   ]
  },
  {
   "cell_type": "code",
   "execution_count": null,
   "id": "cab183f7",
   "metadata": {
    "colab": {
     "base_uri": "https://localhost:8080/"
    },
    "executionInfo": {
     "elapsed": 146109,
     "status": "ok",
     "timestamp": 1702878805223,
     "user": {
      "displayName": "유정민",
      "userId": "18266290192937464787"
     },
     "user_tz": -540
    },
    "id": "cab183f7",
    "outputId": "22a46ee8-0607-4c75-e196-4740bff449ed"
   },
   "outputs": [
    {
     "name": "stdout",
     "output_type": "stream",
     "text": [
      "Best Hyperparameters: {'max_depth': None, 'min_samples_leaf': 4, 'min_samples_split': 10, 'n_estimators': 100}\n"
     ]
    }
   ],
   "source": [
    "# 랜덤포레스트 회귀: 그리드 서치\n",
    "train_x = train1.drop(['box_off_num'],axis= 1)\n",
    "train_y = train1['box_off_num']\n",
    "\n",
    "from sklearn.model_selection import GridSearchCV\n",
    "from sklearn.ensemble import RandomForestRegressor\n",
    "from sklearn.metrics import mean_squared_error\n",
    "from sklearn.preprocessing import LabelEncoder\n",
    "\n",
    "\n",
    "X_train = train_x\n",
    "y_train = train_y\n",
    "\n",
    "\n",
    "param_grid = {\n",
    "    'n_estimators': [50, 100, 200],\n",
    "    'max_depth': [None, 10, 20],\n",
    "    'min_samples_split': [2, 5, 10],\n",
    "    'min_samples_leaf': [1, 2, 4]\n",
    "}\n",
    "\n",
    "\n",
    "rf_regressor = RandomForestRegressor(random_state=42)\n",
    "\n",
    "grid_search = GridSearchCV(rf_regressor, param_grid, cv=5, scoring='neg_mean_squared_error', n_jobs=-1)\n",
    "\n",
    "\n",
    "grid_search.fit(X_train, y_train)\n",
    "\n",
    "\n",
    "best_rf_model = grid_search.best_estimator_\n",
    "\n",
    "\n",
    "print(\"Best Hyperparameters:\", grid_search.best_params_)\n",
    "\n",
    "\n",
    "y_pred = best_rf_model.predict(test)\n"
   ]
  },
  {
   "cell_type": "markdown",
   "id": "MHnsH5rMkvAq",
   "metadata": {
    "id": "MHnsH5rMkvAq"
   },
   "source": [
    "> 점수 : 1345037.20807"
   ]
  },
  {
   "cell_type": "code",
   "execution_count": null,
   "id": "7e0ad629",
   "metadata": {
    "colab": {
     "base_uri": "https://localhost:8080/"
    },
    "executionInfo": {
     "elapsed": 702,
     "status": "ok",
     "timestamp": 1702878813022,
     "user": {
      "displayName": "유정민",
      "userId": "18266290192937464787"
     },
     "user_tz": -540
    },
    "id": "7e0ad629",
    "outputId": "53746b87-5bac-44bb-e622-2184b2ec6af5"
   },
   "outputs": [
    {
     "name": "stdout",
     "output_type": "stream",
     "text": [
      "Dropped features: Index(['genre_서스펜스', 'genre_뮤지컬', 'genre_다큐멘터리', 'genre_애니메이션',\n",
      "       'distributor_(주)마운틴픽쳐스', 'screening_rat_전체 관람가', 'genre_미스터리',\n",
      "       'genre_멜로/로맨스', 'genre_공포', 'genre_SF'],\n",
      "      dtype='object')\n"
     ]
    }
   ],
   "source": [
    "#랜덤포레스트 회귀: 특성 중요도 하위 10위권 drop\n",
    "\n",
    "import numpy as np\n",
    "\n",
    "feature_importances = best_rf_model.feature_importances_\n",
    "feature_names = train_x.columns\n",
    "\n",
    "sorted_idx = np.argsort(feature_importances)\n",
    "\n",
    "# 하위 10위권\n",
    "least_important_features = feature_names[sorted_idx][:10]\n",
    "\n",
    "\n",
    "train_x_filtered = train_x.drop(least_important_features, axis=1)\n",
    "\n",
    "test_filtered = test.drop(least_important_features, axis=1)\n",
    "\n",
    "# 특성 drop 열 확인\n",
    "print(f\"Dropped features: {least_important_features}\")\n",
    "\n",
    "\n",
    "# 기존 베스트 파라미터 사용\n",
    "best_max_depth = None\n",
    "best_min_samples_leaf = 4\n",
    "best_min_samples_split = 10\n",
    "best_n_estimators = 100\n",
    "\n",
    "rf_regressor = RandomForestRegressor(\n",
    "    max_depth=best_max_depth,\n",
    "    min_samples_leaf=best_min_samples_leaf,\n",
    "    min_samples_split=best_min_samples_split,\n",
    "    n_estimators=best_n_estimators,\n",
    "    random_state=42\n",
    ")\n",
    "\n",
    "\n",
    "rf_regressor.fit(train_x_filtered, train_y)\n",
    "\n",
    "y_pred = rf_regressor.predict(test_filtered)\n"
   ]
  },
  {
   "cell_type": "markdown",
   "id": "VowNyVjfkxK9",
   "metadata": {
    "id": "VowNyVjfkxK9"
   },
   "source": [
    "> 점수 : 1346844.50188"
   ]
  },
  {
   "cell_type": "markdown",
   "id": "0206e42c",
   "metadata": {
    "id": "0206e42c"
   },
   "source": [
    "# XGBoost"
   ]
  },
  {
   "cell_type": "code",
   "execution_count": null,
   "id": "439f8ef4",
   "metadata": {
    "colab": {
     "base_uri": "https://localhost:8080/"
    },
    "executionInfo": {
     "elapsed": 159958,
     "status": "ok",
     "timestamp": 1702879102743,
     "user": {
      "displayName": "유정민",
      "userId": "18266290192937464787"
     },
     "user_tz": -540
    },
    "id": "439f8ef4",
    "outputId": "379bfaa6-f78f-4e88-8416-f71019b97f63"
   },
   "outputs": [
    {
     "name": "stdout",
     "output_type": "stream",
     "text": [
      "Fitting 3 folds for each of 162 candidates, totalling 486 fits\n",
      "GridSearchCV 최적 파라미터: {'gamma': 0, 'max_depth': 5, 'min_child_weight': 0.3, 'n_estimators': 300, 'subsample': 0.7}\n"
     ]
    }
   ],
   "source": [
    "#XGBoost 그리드 서치\n",
    "\n",
    "train_x = train1.drop('box_off_num', axis = 1)\n",
    "train_y = train1['box_off_num']\n",
    "test_x = test\n",
    "\n",
    "from sklearn.model_selection import GridSearchCV\n",
    "from xgboost import XGBRegressor\n",
    "\n",
    "xgb = XGBRegressor(random_state=156)\n",
    "\n",
    "params = {'min_child_weight':[0.3,0.5,0.7],\n",
    "          'gamma': [0,0.05,0.1],\n",
    "          'max_depth':[5,6,7],\n",
    "          'subsample':[0.5,0.6,0.7],\n",
    "          'n_estimators': [100,300]\n",
    "}\n",
    "\n",
    "gridcv = GridSearchCV(xgb, param_grid=params, scoring='neg_mean_squared_error', cv=3, verbose=1)\n",
    "gridcv.fit(train_x, train_y)\n",
    "\n",
    "print('GridSearchCV 최적 파라미터:', gridcv.best_params_)\n"
   ]
  },
  {
   "cell_type": "code",
   "execution_count": null,
   "id": "c4d21ec7",
   "metadata": {
    "id": "c4d21ec7"
   },
   "outputs": [],
   "source": [
    "from sklearn.metrics import mean_squared_error\n",
    "\n",
    "xgb= XGBRegressor(max_depth=5, min_child_weight=0.3, n_estimators=300, subsample=0.7)\n",
    "\n",
    "xgb.fit(train_x, train_y)\n",
    "y_pred = xgb.predict(test_x)"
   ]
  },
  {
   "cell_type": "markdown",
   "id": "xLnoXscPfVE3",
   "metadata": {
    "id": "xLnoXscPfVE3"
   },
   "source": [
    "> 점수 : 1244365.5311266673"
   ]
  },
  {
   "cell_type": "code",
   "execution_count": null,
   "id": "9577bbc6",
   "metadata": {
    "colab": {
     "base_uri": "https://localhost:8080/",
     "height": 489
    },
    "executionInfo": {
     "elapsed": 161434,
     "status": "ok",
     "timestamp": 1702879318943,
     "user": {
      "displayName": "유정민",
      "userId": "18266290192937464787"
     },
     "user_tz": -540
    },
    "id": "9577bbc6",
    "outputId": "fb096a57-ed85-4d39-f9b4-1a98a1d3f47f"
   },
   "outputs": [
    {
     "name": "stdout",
     "output_type": "stream",
     "text": [
      "Fitting 3 folds for each of 162 candidates, totalling 486 fits\n",
      "GridSearchCV 최적 파라미터: {'gamma': 0, 'max_depth': 5, 'min_child_weight': 0.3, 'n_estimators': 300, 'subsample': 0.7}\n"
     ]
    },
    {
     "data": {
      "image/png": "[encoded data removed]",
      "text/plain": [
       "<Figure size 2000x1000 with 2 Axes>"
      ]
     },
     "metadata": {},
     "output_type": "display_data"
    }
   ],
   "source": [
    "# XGBoost 로그 변환\n",
    "import seaborn as sns\n",
    "import matplotlib.pyplot as plt\n",
    "\n",
    "plt.figure(figsize = (20, 10))\n",
    "\n",
    "list = [\"num_staff\", \"num_actor\"]\n",
    "\n",
    "for i in range(2):\n",
    "  plt.subplot(2, 4, i+1)\n",
    "  sns.kdeplot(train1[list[i]], fill = True)\n",
    "  plt.title(f\"{list[i]}\")\n",
    "  plt.xlabel(f\"{list[i]}\")\n",
    "\n",
    "train1[\"num_staff\"] = np.log1p(train1[\"num_staff\"])\n",
    "test[\"num_staff\"] = np.log1p(test[\"num_staff\"])\n",
    "train1[\"num_actor\"] = np.log1p(train1[\"num_actor\"])\n",
    "test[\"num_actor\"] = np.log1p(test[\"num_actor\"])\n",
    "\n",
    "train_x = train1.drop('box_off_num', axis = 1)\n",
    "train_y = train1['box_off_num']\n",
    "test_x = test\n",
    "\n",
    "params = {'min_child_weight':[0.3,0.5,0.7],\n",
    "          'gamma': [0,0.05,0.1],\n",
    "          'max_depth':[5,6,7],\n",
    "          'subsample':[0.5,0.6,0.7],\n",
    "          'n_estimators': [100,300]\n",
    "}\n",
    "\n",
    "gridcv = GridSearchCV(xgb, param_grid=params, scoring='neg_mean_squared_error', cv=3, verbose=1)\n",
    "gridcv.fit(train_x, train_y)\n",
    "\n",
    "print('GridSearchCV 최적 파라미터:', gridcv.best_params_)\n",
    "\n",
    "xgb= XGBRegressor(gamma=0.1,max_depth=7, min_child_weight=0.3, n_estimators=300, subsample=0.7)\n",
    "\n",
    "\n",
    "xgb.fit(train_x, train_y)\n",
    "y_pred = xgb.predict(test_x)"
   ]
  },
  {
   "cell_type": "markdown",
   "id": "jJMnnFv-ggPR",
   "metadata": {
    "id": "jJMnnFv-ggPR"
   },
   "source": [
    "> 점수 : 1285626.425888215"
   ]
  },
  {
   "cell_type": "markdown",
   "id": "314ab491",
   "metadata": {
    "id": "314ab491"
   },
   "source": [
    "# lightGBM"
   ]
  },
  {
   "cell_type": "code",
   "execution_count": null,
   "id": "jqTZtmjZVkvA",
   "metadata": {
    "colab": {
     "base_uri": "https://localhost:8080/"
    },
    "id": "jqTZtmjZVkvA",
    "outputId": "3c07e6f3-f961-4006-8a63-80487e5d6e25"
   },
   "outputs": [
    {
     "name": "stdout",
     "output_type": "stream",
     "text": [
      "[LightGBM] [Warning] Found whitespace in feature_names, replace with underlines\n",
      "[LightGBM] [Info] Auto-choosing col-wise multi-threading, the overhead of testing was 0.000181 seconds.\n",
      "You can set `force_col_wise=true` to remove the overhead.\n",
      "[LightGBM] [Info] Total Bins 411\n",
      "[LightGBM] [Info] Number of data points in the train set: 600, number of used features: 20\n",
      "[LightGBM] [Info] Start training from score 708181.751667\n",
      "[LightGBM] [Warning] No further splits with positive gain, best gain: -inf\n",
      "[LightGBM] [Warning] No further splits with positive gain, best gain: -inf\n",
      "[LightGBM] [Warning] No further splits with positive gain, best gain: -inf\n",
      "[LightGBM] [Warning] No further splits with positive gain, best gain: -inf\n",
      "[LightGBM] [Warning] No further splits with positive gain, best gain: -inf\n",
      "[LightGBM] [Warning] No further splits with positive gain, best gain: -inf\n",
      "[LightGBM] [Warning] No further splits with positive gain, best gain: -inf\n",
      "[LightGBM] [Warning] No further splits with positive gain, best gain: -inf\n",
      "[LightGBM] [Warning] No further splits with positive gain, best gain: -inf\n",
      "[LightGBM] [Warning] No further splits with positive gain, best gain: -inf\n",
      "[LightGBM] [Warning] No further splits with positive gain, best gain: -inf\n",
      "[LightGBM] [Warning] No further splits with positive gain, best gain: -inf\n",
      "[LightGBM] [Warning] No further splits with positive gain, best gain: -inf\n",
      "[LightGBM] [Warning] No further splits with positive gain, best gain: -inf\n",
      "[LightGBM] [Warning] No further splits with positive gain, best gain: -inf\n",
      "[LightGBM] [Warning] No further splits with positive gain, best gain: -inf\n",
      "[LightGBM] [Warning] No further splits with positive gain, best gain: -inf\n",
      "[LightGBM] [Warning] No further splits with positive gain, best gain: -inf\n",
      "[LightGBM] [Warning] No further splits with positive gain, best gain: -inf\n",
      "[LightGBM] [Warning] No further splits with positive gain, best gain: -inf\n",
      "[LightGBM] [Warning] No further splits with positive gain, best gain: -inf\n",
      "[LightGBM] [Warning] No further splits with positive gain, best gain: -inf\n",
      "[LightGBM] [Warning] No further splits with positive gain, best gain: -inf\n",
      "[LightGBM] [Warning] No further splits with positive gain, best gain: -inf\n",
      "[LightGBM] [Warning] No further splits with positive gain, best gain: -inf\n",
      "[LightGBM] [Warning] No further splits with positive gain, best gain: -inf\n",
      "[LightGBM] [Warning] No further splits with positive gain, best gain: -inf\n",
      "[LightGBM] [Warning] No further splits with positive gain, best gain: -inf\n",
      "[LightGBM] [Warning] No further splits with positive gain, best gain: -inf\n",
      "[LightGBM] [Warning] No further splits with positive gain, best gain: -inf\n",
      "[LightGBM] [Warning] No further splits with positive gain, best gain: -inf\n",
      "[LightGBM] [Warning] No further splits with positive gain, best gain: -inf\n",
      "[LightGBM] [Warning] No further splits with positive gain, best gain: -inf\n",
      "[LightGBM] [Warning] No further splits with positive gain, best gain: -inf\n",
      "[LightGBM] [Warning] No further splits with positive gain, best gain: -inf\n",
      "[LightGBM] [Warning] No further splits with positive gain, best gain: -inf\n",
      "[LightGBM] [Warning] No further splits with positive gain, best gain: -inf\n",
      "[LightGBM] [Warning] No further splits with positive gain, best gain: -inf\n",
      "[LightGBM] [Warning] No further splits with positive gain, best gain: -inf\n",
      "[LightGBM] [Warning] No further splits with positive gain, best gain: -inf\n",
      "[LightGBM] [Warning] No further splits with positive gain, best gain: -inf\n",
      "[LightGBM] [Warning] No further splits with positive gain, best gain: -inf\n",
      "[LightGBM] [Warning] No further splits with positive gain, best gain: -inf\n",
      "[LightGBM] [Warning] No further splits with positive gain, best gain: -inf\n",
      "[LightGBM] [Warning] No further splits with positive gain, best gain: -inf\n",
      "[LightGBM] [Warning] No further splits with positive gain, best gain: -inf\n",
      "[LightGBM] [Warning] No further splits with positive gain, best gain: -inf\n",
      "[LightGBM] [Warning] No further splits with positive gain, best gain: -inf\n",
      "[LightGBM] [Warning] No further splits with positive gain, best gain: -inf\n",
      "[LightGBM] [Warning] No further splits with positive gain, best gain: -inf\n",
      "GridSearch 최적 파라미터 {'learning_rate': 0.05, 'min_child_samples': 30, 'n_estimators': 50, 'num_leaves': 40, 'subsample': 0.8}\n"
     ]
    }
   ],
   "source": [
    "# lgbm 그리드 서치\n",
    "xtrain=train1.drop(['box_off_num'],axis=1)\n",
    "ytrain=train1['box_off_num']\n",
    "\n",
    "from sklearn.model_selection import GridSearchCV\n",
    "from lightgbm import LGBMRegressor\n",
    "\n",
    "params = {\n",
    "    'num_leaves': [40, 50, 70, 90],\n",
    "    'min_child_samples': [10,30,50, 70, 100],\n",
    "    'subsample': [0.8, 1],\n",
    "    'learning_rate': [0.01, 0.05, 0.1, 0.15, 0.2],\n",
    "    'n_estimators': [50, 90,100, 150],\n",
    "}\n",
    "\n",
    "lgbm=LGBMRegressor()\n",
    "\n",
    "\n",
    "gridcv=GridSearchCV(lgbm,param_grid=params,cv=5,n_jobs=-1,scoring='neg_mean_squared_error')\n",
    "gridcv.fit(xtrain,ytrain)\n",
    "print('GridSearch 최적 파라미터',gridcv.best_params_)\n",
    "\n",
    "test1 = test.copy()\n",
    "\n",
    "\n"
   ]
  },
  {
   "cell_type": "code",
   "execution_count": null,
   "id": "dkrrQyQ3Ywux",
   "metadata": {
    "colab": {
     "base_uri": "https://localhost:8080/"
    },
    "id": "dkrrQyQ3Ywux",
    "outputId": "f9a51275-5c5f-46f3-e917-afc6c61b7f09"
   },
   "outputs": [
    {
     "name": "stdout",
     "output_type": "stream",
     "text": [
      "[LightGBM] [Warning] Found whitespace in feature_names, replace with underlines\n",
      "[LightGBM] [Info] Auto-choosing row-wise multi-threading, the overhead of testing was 0.000053 seconds.\n",
      "You can set `force_row_wise=true` to remove the overhead.\n",
      "And if memory is not enough, you can set `force_col_wise=true`.\n",
      "[LightGBM] [Info] Total Bins 411\n",
      "[LightGBM] [Info] Number of data points in the train set: 600, number of used features: 20\n",
      "[LightGBM] [Info] Start training from score 708181.751667\n",
      "[LightGBM] [Warning] No further splits with positive gain, best gain: -inf\n",
      "[LightGBM] [Warning] No further splits with positive gain, best gain: -inf\n",
      "[LightGBM] [Warning] No further splits with positive gain, best gain: -inf\n",
      "[LightGBM] [Warning] No further splits with positive gain, best gain: -inf\n",
      "[LightGBM] [Warning] No further splits with positive gain, best gain: -inf\n",
      "[LightGBM] [Warning] No further splits with positive gain, best gain: -inf\n",
      "[LightGBM] [Warning] No further splits with positive gain, best gain: -inf\n",
      "[LightGBM] [Warning] No further splits with positive gain, best gain: -inf\n",
      "[LightGBM] [Warning] No further splits with positive gain, best gain: -inf\n",
      "[LightGBM] [Warning] No further splits with positive gain, best gain: -inf\n",
      "[LightGBM] [Warning] No further splits with positive gain, best gain: -inf\n",
      "[LightGBM] [Warning] No further splits with positive gain, best gain: -inf\n",
      "[LightGBM] [Warning] No further splits with positive gain, best gain: -inf\n",
      "[LightGBM] [Warning] No further splits with positive gain, best gain: -inf\n",
      "[LightGBM] [Warning] No further splits with positive gain, best gain: -inf\n",
      "[LightGBM] [Warning] No further splits with positive gain, best gain: -inf\n",
      "[LightGBM] [Warning] No further splits with positive gain, best gain: -inf\n",
      "[LightGBM] [Warning] No further splits with positive gain, best gain: -inf\n",
      "[LightGBM] [Warning] No further splits with positive gain, best gain: -inf\n",
      "[LightGBM] [Warning] No further splits with positive gain, best gain: -inf\n",
      "[LightGBM] [Warning] No further splits with positive gain, best gain: -inf\n",
      "[LightGBM] [Warning] No further splits with positive gain, best gain: -inf\n",
      "[LightGBM] [Warning] No further splits with positive gain, best gain: -inf\n",
      "[LightGBM] [Warning] No further splits with positive gain, best gain: -inf\n",
      "[LightGBM] [Warning] No further splits with positive gain, best gain: -inf\n",
      "[LightGBM] [Warning] No further splits with positive gain, best gain: -inf\n",
      "[LightGBM] [Warning] No further splits with positive gain, best gain: -inf\n",
      "[LightGBM] [Warning] No further splits with positive gain, best gain: -inf\n",
      "[LightGBM] [Warning] No further splits with positive gain, best gain: -inf\n",
      "[LightGBM] [Warning] No further splits with positive gain, best gain: -inf\n",
      "[LightGBM] [Warning] No further splits with positive gain, best gain: -inf\n",
      "[LightGBM] [Warning] No further splits with positive gain, best gain: -inf\n",
      "[LightGBM] [Warning] No further splits with positive gain, best gain: -inf\n",
      "[LightGBM] [Warning] No further splits with positive gain, best gain: -inf\n",
      "[LightGBM] [Warning] No further splits with positive gain, best gain: -inf\n",
      "[LightGBM] [Warning] No further splits with positive gain, best gain: -inf\n",
      "[LightGBM] [Warning] No further splits with positive gain, best gain: -inf\n",
      "[LightGBM] [Warning] No further splits with positive gain, best gain: -inf\n",
      "[LightGBM] [Warning] No further splits with positive gain, best gain: -inf\n",
      "[LightGBM] [Warning] No further splits with positive gain, best gain: -inf\n",
      "[LightGBM] [Warning] No further splits with positive gain, best gain: -inf\n",
      "[LightGBM] [Warning] No further splits with positive gain, best gain: -inf\n",
      "[LightGBM] [Warning] No further splits with positive gain, best gain: -inf\n",
      "[LightGBM] [Warning] No further splits with positive gain, best gain: -inf\n",
      "[LightGBM] [Warning] No further splits with positive gain, best gain: -inf\n",
      "[LightGBM] [Warning] No further splits with positive gain, best gain: -inf\n",
      "[LightGBM] [Warning] No further splits with positive gain, best gain: -inf\n",
      "[LightGBM] [Warning] No further splits with positive gain, best gain: -inf\n",
      "[LightGBM] [Warning] No further splits with positive gain, best gain: -inf\n",
      "[LightGBM] [Warning] No further splits with positive gain, best gain: -inf\n"
     ]
    }
   ],
   "source": [
    "#최적파라미터로 모델 fit 하기\n",
    "\n",
    "lgbm_wrapper = LGBMRegressor(min_child_samples=30, num_leaves=40, subsample=0.8,n_estimators=50,learning_rate=0.05)\n",
    "\n",
    "\n",
    "lgbm_wrapper.fit(xtrain, ytrain)\n",
    "lgbmpred = lgbm_wrapper.predict(test1)"
   ]
  },
  {
   "cell_type": "markdown",
   "id": "cTDauDCrVrKa",
   "metadata": {
    "id": "cTDauDCrVrKa"
   },
   "source": [
    "> 점수 : 1403331.5264729692"
   ]
  },
  {
   "cell_type": "code",
   "execution_count": null,
   "id": "3683c10a",
   "metadata": {
    "colab": {
     "base_uri": "https://localhost:8080/"
    },
    "id": "3683c10a",
    "outputId": "5232b273-55aa-4a0e-df10-5c524ab4de45"
   },
   "outputs": [
    {
     "name": "stdout",
     "output_type": "stream",
     "text": [
      "[LightGBM] [Warning] Found whitespace in feature_names, replace with underlines\n",
      "[LightGBM] [Info] Auto-choosing row-wise multi-threading, the overhead of testing was 0.000053 seconds.\n",
      "You can set `force_row_wise=true` to remove the overhead.\n",
      "And if memory is not enough, you can set `force_col_wise=true`.\n",
      "[LightGBM] [Info] Total Bins 407\n",
      "[LightGBM] [Info] Number of data points in the train set: 600, number of used features: 18\n",
      "[LightGBM] [Info] Start training from score 9.951971\n",
      "[LightGBM] [Warning] No further splits with positive gain, best gain: -inf\n",
      "[LightGBM] [Warning] No further splits with positive gain, best gain: -inf\n",
      "[LightGBM] [Warning] No further splits with positive gain, best gain: -inf\n",
      "[LightGBM] [Warning] No further splits with positive gain, best gain: -inf\n",
      "[LightGBM] [Warning] No further splits with positive gain, best gain: -inf\n",
      "[LightGBM] [Warning] No further splits with positive gain, best gain: -inf\n",
      "[LightGBM] [Warning] No further splits with positive gain, best gain: -inf\n",
      "[LightGBM] [Warning] No further splits with positive gain, best gain: -inf\n",
      "[LightGBM] [Warning] No further splits with positive gain, best gain: -inf\n",
      "[LightGBM] [Warning] No further splits with positive gain, best gain: -inf\n",
      "[LightGBM] [Warning] No further splits with positive gain, best gain: -inf\n",
      "[LightGBM] [Warning] No further splits with positive gain, best gain: -inf\n",
      "[LightGBM] [Warning] No further splits with positive gain, best gain: -inf\n",
      "[LightGBM] [Warning] No further splits with positive gain, best gain: -inf\n",
      "[LightGBM] [Warning] No further splits with positive gain, best gain: -inf\n",
      "[LightGBM] [Warning] No further splits with positive gain, best gain: -inf\n",
      "[LightGBM] [Warning] No further splits with positive gain, best gain: -inf\n",
      "[LightGBM] [Warning] No further splits with positive gain, best gain: -inf\n",
      "[LightGBM] [Warning] No further splits with positive gain, best gain: -inf\n",
      "[LightGBM] [Warning] No further splits with positive gain, best gain: -inf\n",
      "[LightGBM] [Warning] No further splits with positive gain, best gain: -inf\n",
      "[LightGBM] [Warning] No further splits with positive gain, best gain: -inf\n",
      "[LightGBM] [Warning] No further splits with positive gain, best gain: -inf\n",
      "[LightGBM] [Warning] No further splits with positive gain, best gain: -inf\n",
      "[LightGBM] [Warning] No further splits with positive gain, best gain: -inf\n",
      "[LightGBM] [Warning] No further splits with positive gain, best gain: -inf\n",
      "[LightGBM] [Warning] No further splits with positive gain, best gain: -inf\n",
      "[LightGBM] [Warning] No further splits with positive gain, best gain: -inf\n",
      "[LightGBM] [Warning] No further splits with positive gain, best gain: -inf\n",
      "[LightGBM] [Warning] No further splits with positive gain, best gain: -inf\n",
      "[LightGBM] [Warning] No further splits with positive gain, best gain: -inf\n",
      "[LightGBM] [Warning] No further splits with positive gain, best gain: -inf\n",
      "[LightGBM] [Warning] No further splits with positive gain, best gain: -inf\n",
      "[LightGBM] [Warning] No further splits with positive gain, best gain: -inf\n",
      "[LightGBM] [Warning] No further splits with positive gain, best gain: -inf\n",
      "[LightGBM] [Warning] No further splits with positive gain, best gain: -inf\n",
      "[LightGBM] [Warning] No further splits with positive gain, best gain: -inf\n",
      "[LightGBM] [Warning] No further splits with positive gain, best gain: -inf\n",
      "[LightGBM] [Warning] No further splits with positive gain, best gain: -inf\n",
      "[LightGBM] [Warning] No further splits with positive gain, best gain: -inf\n",
      "[LightGBM] [Warning] No further splits with positive gain, best gain: -inf\n",
      "[LightGBM] [Warning] No further splits with positive gain, best gain: -inf\n",
      "[LightGBM] [Warning] No further splits with positive gain, best gain: -inf\n",
      "[LightGBM] [Warning] No further splits with positive gain, best gain: -inf\n",
      "[LightGBM] [Warning] No further splits with positive gain, best gain: -inf\n",
      "[LightGBM] [Warning] No further splits with positive gain, best gain: -inf\n",
      "[LightGBM] [Warning] No further splits with positive gain, best gain: -inf\n",
      "[LightGBM] [Warning] No further splits with positive gain, best gain: -inf\n",
      "[LightGBM] [Warning] No further splits with positive gain, best gain: -inf\n",
      "[LightGBM] [Warning] No further splits with positive gain, best gain: -inf\n",
      "GridSearch 최적 파라미터 {'learning_rate': 0.2, 'min_child_samples': 50, 'n_estimators': 50, 'num_leaves': 40, 'subsample': 0.8}\n"
     ]
    }
   ],
   "source": [
    "# lgbm 로그변환\n",
    "\n",
    "train2=train1.copy()\n",
    "test2=test1.copy()\n",
    "\n",
    "import numpy as np\n",
    "train2['dir_prev_bfnum'] = np.log1p(train2['dir_prev_bfnum'])\n",
    "train2['num_actor'] = np.log1p(train2['num_actor'])\n",
    "train2['num_staff'] = np.log1p(train2['num_staff'])\n",
    "train2['box_off_num'] = np.log1p(train2['box_off_num'])\n",
    "\n",
    "test2['dir_prev_bfnum'] = np.log1p(test2['dir_prev_bfnum'])\n",
    "test2['num_actor'] = np.log1p(test2['num_actor'])\n",
    "test2['num_staff'] = np.log1p(test2['num_staff'])\n",
    "\n",
    "xtrain=train2.drop(['box_off_num'],axis=1)\n",
    "ytrain=train2['box_off_num']\n",
    "\n",
    "from sklearn.model_selection import GridSearchCV\n",
    "from lightgbm import LGBMRegressor\n",
    "\n",
    "params = {\n",
    "    'num_leaves': [40, 50, 70, 90],\n",
    "    'min_child_samples': [30,50, 70, 100],\n",
    "    'subsample': [0.8, 1],\n",
    "    'learning_rate': [0.01, 0.05, 0.1, 0.15, 0.2],\n",
    "    'n_estimators': [50, 90,100, 150],\n",
    "}\n",
    "\n",
    "lgbm=LGBMRegressor()\n",
    "\n",
    "\n",
    "gridcv=GridSearchCV(lgbm,param_grid=params,cv=5,n_jobs=-1,scoring='neg_mean_squared_error')\n",
    "gridcv.fit(xtrain,ytrain)\n",
    "print('GridSearch 최적 파라미터',gridcv.best_params_)"
   ]
  },
  {
   "cell_type": "code",
   "execution_count": null,
   "id": "d446fe69",
   "metadata": {
    "colab": {
     "base_uri": "https://localhost:8080/"
    },
    "id": "d446fe69",
    "outputId": "eebd49fd-f23a-4f0c-b2c2-a4270f6a9cca"
   },
   "outputs": [
    {
     "name": "stdout",
     "output_type": "stream",
     "text": [
      "[LightGBM] [Warning] Found whitespace in feature_names, replace with underlines\n",
      "[LightGBM] [Info] Auto-choosing row-wise multi-threading, the overhead of testing was 0.000067 seconds.\n",
      "You can set `force_row_wise=true` to remove the overhead.\n",
      "And if memory is not enough, you can set `force_col_wise=true`.\n",
      "[LightGBM] [Info] Total Bins 407\n",
      "[LightGBM] [Info] Number of data points in the train set: 600, number of used features: 18\n",
      "[LightGBM] [Info] Start training from score 9.951971\n",
      "[LightGBM] [Warning] No further splits with positive gain, best gain: -inf\n",
      "[LightGBM] [Warning] No further splits with positive gain, best gain: -inf\n",
      "[LightGBM] [Warning] No further splits with positive gain, best gain: -inf\n",
      "[LightGBM] [Warning] No further splits with positive gain, best gain: -inf\n",
      "[LightGBM] [Warning] No further splits with positive gain, best gain: -inf\n",
      "[LightGBM] [Warning] No further splits with positive gain, best gain: -inf\n",
      "[LightGBM] [Warning] No further splits with positive gain, best gain: -inf\n",
      "[LightGBM] [Warning] No further splits with positive gain, best gain: -inf\n",
      "[LightGBM] [Warning] No further splits with positive gain, best gain: -inf\n",
      "[LightGBM] [Warning] No further splits with positive gain, best gain: -inf\n",
      "[LightGBM] [Warning] No further splits with positive gain, best gain: -inf\n",
      "[LightGBM] [Warning] No further splits with positive gain, best gain: -inf\n",
      "[LightGBM] [Warning] No further splits with positive gain, best gain: -inf\n",
      "[LightGBM] [Warning] No further splits with positive gain, best gain: -inf\n",
      "[LightGBM] [Warning] No further splits with positive gain, best gain: -inf\n",
      "[LightGBM] [Warning] No further splits with positive gain, best gain: -inf\n",
      "[LightGBM] [Warning] No further splits with positive gain, best gain: -inf\n",
      "[LightGBM] [Warning] No further splits with positive gain, best gain: -inf\n",
      "[LightGBM] [Warning] No further splits with positive gain, best gain: -inf\n",
      "[LightGBM] [Warning] No further splits with positive gain, best gain: -inf\n",
      "[LightGBM] [Warning] No further splits with positive gain, best gain: -inf\n",
      "[LightGBM] [Warning] No further splits with positive gain, best gain: -inf\n",
      "[LightGBM] [Warning] No further splits with positive gain, best gain: -inf\n",
      "[LightGBM] [Warning] No further splits with positive gain, best gain: -inf\n",
      "[LightGBM] [Warning] No further splits with positive gain, best gain: -inf\n",
      "[LightGBM] [Warning] No further splits with positive gain, best gain: -inf\n",
      "[LightGBM] [Warning] No further splits with positive gain, best gain: -inf\n",
      "[LightGBM] [Warning] No further splits with positive gain, best gain: -inf\n",
      "[LightGBM] [Warning] No further splits with positive gain, best gain: -inf\n",
      "[LightGBM] [Warning] No further splits with positive gain, best gain: -inf\n",
      "[LightGBM] [Warning] No further splits with positive gain, best gain: -inf\n",
      "[LightGBM] [Warning] No further splits with positive gain, best gain: -inf\n",
      "[LightGBM] [Warning] No further splits with positive gain, best gain: -inf\n",
      "[LightGBM] [Warning] No further splits with positive gain, best gain: -inf\n",
      "[LightGBM] [Warning] No further splits with positive gain, best gain: -inf\n",
      "[LightGBM] [Warning] No further splits with positive gain, best gain: -inf\n",
      "[LightGBM] [Warning] No further splits with positive gain, best gain: -inf\n",
      "[LightGBM] [Warning] No further splits with positive gain, best gain: -inf\n",
      "[LightGBM] [Warning] No further splits with positive gain, best gain: -inf\n",
      "[LightGBM] [Warning] No further splits with positive gain, best gain: -inf\n",
      "[LightGBM] [Warning] No further splits with positive gain, best gain: -inf\n",
      "[LightGBM] [Warning] No further splits with positive gain, best gain: -inf\n",
      "[LightGBM] [Warning] No further splits with positive gain, best gain: -inf\n",
      "[LightGBM] [Warning] No further splits with positive gain, best gain: -inf\n",
      "[LightGBM] [Warning] No further splits with positive gain, best gain: -inf\n",
      "[LightGBM] [Warning] No further splits with positive gain, best gain: -inf\n",
      "[LightGBM] [Warning] No further splits with positive gain, best gain: -inf\n",
      "[LightGBM] [Warning] No further splits with positive gain, best gain: -inf\n",
      "[LightGBM] [Warning] No further splits with positive gain, best gain: -inf\n",
      "[LightGBM] [Warning] No further splits with positive gain, best gain: -inf\n"
     ]
    }
   ],
   "source": [
    "#최적파라미터로 모델 fit 하기\n",
    "\n",
    "lgbm_wrapper = LGBMRegressor(min_child_samples=50, num_leaves=40, subsample=0.8,n_estimators=50,learning_rate=0.2)\n",
    "\n",
    "\n",
    "lgbm_wrapper.fit(xtrain, ytrain)\n",
    "lgbmpred = lgbm_wrapper.predict(test2)"
   ]
  },
  {
   "cell_type": "markdown",
   "id": "o1h3QGvlapHD",
   "metadata": {
    "id": "o1h3QGvlapHD"
   },
   "source": [
    "> 점수 : 1987082.302123137"
   ]
  },
  {
   "cell_type": "code",
   "execution_count": null,
   "id": "89fccad1",
   "metadata": {},
   "outputs": [],
   "source": []
  }
 ],
 "metadata": {
  "colab": {
   "provenance": []
  },
  "kernelspec": {
   "display_name": "Python 3 (ipykernel)",
   "language": "python",
   "name": "python3"
  },
  "language_info": {
   "codemirror_mode": {
    "name": "ipython",
    "version": 3
   },
   "file_extension": ".py",
   "mimetype": "text/x-python",
   "name": "python",
   "nbconvert_exporter": "python",
   "pygments_lexer": "ipython3",
   "version": "3.9.13"
  }
 },
 "nbformat": 4,
 "nbformat_minor": 5
}
